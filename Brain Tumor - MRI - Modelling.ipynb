{
 "cells": [
  {
   "cell_type": "markdown",
   "metadata": {},
   "source": [
    "# Hack Western - MRI - Brain Tumor"
   ]
  },
  {
   "cell_type": "code",
   "execution_count": 12,
   "metadata": {},
   "outputs": [],
   "source": [
    "import numpy as np\n",
    "import pandas as pd\n",
    "import os\n",
    "import tensorflow as tf\n",
    "from tensorflow import keras\n",
    "import matplotlib.pyplot as plt\n",
    "import seaborn as sns\n",
    "import string\n",
    "import nltk\n",
    "import warnings\n",
    "warnings.filterwarnings(\"ignore\")\n",
    "import shutil\n",
    "import matplotlib.pyplot as plt\n",
    "%matplotlib inline\n",
    "from tensorflow.keras import layers\n",
    "from keras.callbacks import EarlyStopping\n",
    "import pickle\n",
    "import keras\n",
    "from keras.layers import *\n",
    "from keras.models import *\n",
    "from keras.preprocessing import image\n",
    "from keras.preprocessing.image import load_img\n",
    "from keras.preprocessing.image import img_to_array\n",
    "from keras.preprocessing.image import array_to_img\n",
    "from tensorflow.python.keras.preprocessing.image import ImageDataGenerator\n",
    "from tensorflow.python.keras.preprocessing.image import ImageDataGenerator,array_to_img\n",
    "from keras.models import Sequential\n",
    "from tensorflow.keras.models import Sequential\n",
    "from tensorflow.keras.layers import Conv2D\n",
    "from tensorflow.keras.layers import MaxPooling2D\n",
    "from tensorflow.keras.layers import Dense\n",
    "from tensorflow.keras.layers import Dropout\n",
    "from tensorflow.keras.layers import Flatten\n",
    "from keras.applications.imagenet_utils import preprocess_input, decode_predictions\n",
    "from tensorflow.keras.models import Model, load_model\n",
    "from sklearn.metrics import confusion_matrix\n",
    "from sklearn.metrics import classification_report"
   ]
  },
  {
   "cell_type": "markdown",
   "metadata": {},
   "source": [
    "__Split data into train, test and val__"
   ]
  },
  {
   "cell_type": "code",
   "execution_count": 2,
   "metadata": {},
   "outputs": [
    {
     "name": "stderr",
     "output_type": "stream",
     "text": [
      "Copying files: 3160 files [00:18, 166.85 files/s]\n"
     ]
    }
   ],
   "source": [
    "import splitfolders\n",
    "splitfolders.ratio('MRI - BrainTurmor/dataset', output=\"MRI - BrainTurmor/train-test-val_datasets\", seed=123, ratio=(.8, 0.1, 0.1))"
   ]
  },
  {
   "cell_type": "markdown",
   "metadata": {},
   "source": [
    "__Data Augmentation__"
   ]
  },
  {
   "cell_type": "code",
   "execution_count": 34,
   "metadata": {},
   "outputs": [
    {
     "name": "stdout",
     "output_type": "stream",
     "text": [
      "Found 2624 images belonging to 4 classes.\n",
      "Found 314 images belonging to 4 classes.\n",
      "Found 321 images belonging to 4 classes.\n"
     ]
    }
   ],
   "source": [
    "image_dimension = 224\n",
    "batch_size = 32\n",
    "\n",
    "# Creating training, validation, and test image flows\n",
    "train_gen = ImageDataGenerator(rescale = 1/255,\n",
    "                               shear_range = 0.2,\n",
    "                               zoom_range = 0.2,\n",
    "                               width_shift_range= 0.2,\n",
    "                               height_shift_range=0.2,\n",
    "                               rotation_range=0.3,\n",
    "                               horizontal_flip = True)\n",
    "\n",
    "\n",
    "\n",
    "test_gen = ImageDataGenerator(rescale = 1/255)\n",
    "\n",
    "\n",
    "##############################################################################\n",
    "\n",
    "train_set = train_gen.flow_from_directory('MRI - BrainTurmor/train-test-val_datasets/train',\n",
    "                                          target_size = (image_dimension,image_dimension), \n",
    "                                          batch_size = batch_size,\n",
    "                                          class_mode = 'categorical')\n",
    "\n",
    "\n",
    "val_gen = test_gen.flow_from_directory('MRI - BrainTurmor/train-test-val_datasets/val',\n",
    "                                      target_size = (image_dimension,image_dimension),\n",
    "                                      batch_size = batch_size,\n",
    "                                      class_mode = 'categorical')\n",
    "\n",
    "\n",
    "\n",
    "test_set = test_gen.flow_from_directory('MRI - BrainTurmor/train-test-val_datasets/test',\n",
    "                                        target_size = (image_dimension,image_dimension),\n",
    "                                        batch_size = batch_size,\n",
    "                                        class_mode = 'categorical',\n",
    "                                        shuffle=False)"
   ]
  },
  {
   "cell_type": "code",
   "execution_count": 35,
   "metadata": {},
   "outputs": [
    {
     "data": {
      "text/plain": [
       "{'glioma_tumor': 0, 'meningioma_tumor': 1, 'no_tumor': 2, 'pituitary_tumor': 3}"
      ]
     },
     "execution_count": 35,
     "metadata": {},
     "output_type": "execute_result"
    }
   ],
   "source": [
    "train_set.class_indices"
   ]
  },
  {
   "cell_type": "markdown",
   "metadata": {},
   "source": [
    "### Modeling"
   ]
  },
  {
   "cell_type": "code",
   "execution_count": 36,
   "metadata": {},
   "outputs": [
    {
     "name": "stdout",
     "output_type": "stream",
     "text": [
      "Model: \"sequential_5\"\n",
      "_________________________________________________________________\n",
      "Layer (type)                 Output Shape              Param #   \n",
      "=================================================================\n",
      "conv2d_14 (Conv2D)           (None, 222, 222, 32)      896       \n",
      "_________________________________________________________________\n",
      "max_pooling2d_14 (MaxPooling (None, 111, 111, 32)      0         \n",
      "_________________________________________________________________\n",
      "dropout_20 (Dropout)         (None, 111, 111, 32)      0         \n",
      "_________________________________________________________________\n",
      "conv2d_15 (Conv2D)           (None, 109, 109, 64)      18496     \n",
      "_________________________________________________________________\n",
      "max_pooling2d_15 (MaxPooling (None, 54, 54, 64)        0         \n",
      "_________________________________________________________________\n",
      "dropout_21 (Dropout)         (None, 54, 54, 64)        0         \n",
      "_________________________________________________________________\n",
      "conv2d_16 (Conv2D)           (None, 49, 49, 64)        147520    \n",
      "_________________________________________________________________\n",
      "max_pooling2d_16 (MaxPooling (None, 24, 24, 64)        0         \n",
      "_________________________________________________________________\n",
      "dropout_22 (Dropout)         (None, 24, 24, 64)        0         \n",
      "_________________________________________________________________\n",
      "conv2d_17 (Conv2D)           (None, 24, 24, 64)        147520    \n",
      "_________________________________________________________________\n",
      "max_pooling2d_17 (MaxPooling (None, 12, 12, 64)        0         \n",
      "_________________________________________________________________\n",
      "dropout_23 (Dropout)         (None, 12, 12, 64)        0         \n",
      "_________________________________________________________________\n",
      "flatten_5 (Flatten)          (None, 9216)              0         \n",
      "_________________________________________________________________\n",
      "dense_13 (Dense)             (None, 64)                589888    \n",
      "_________________________________________________________________\n",
      "dropout_24 (Dropout)         (None, 64)                0         \n",
      "_________________________________________________________________\n",
      "dense_14 (Dense)             (None, 4)                 260       \n",
      "=================================================================\n",
      "Total params: 904,580\n",
      "Trainable params: 904,580\n",
      "Non-trainable params: 0\n",
      "_________________________________________________________________\n"
     ]
    }
   ],
   "source": [
    "CNN_model = Sequential()\n",
    "\n",
    "CNN_model.add(Conv2D(32,kernel_size=(3,3),activation=\"relu\",input_shape=(224,224,3))) #firstlayer\n",
    "CNN_model.add(layers.MaxPooling2D((2, 2)))\n",
    "CNN_model.add(Dropout(0.25))\n",
    "CNN_model.add(layers.Conv2D(64, (3, 3), activation='relu',input_shape=(64,64,3)))\n",
    "CNN_model.add(layers.MaxPooling2D((2, 2)))\n",
    "CNN_model.add(Dropout(0.25))\n",
    "CNN_model.add(layers.Conv2D(64, (6, 6), activation='relu',input_shape=(64,64,3))) \n",
    "CNN_model.add(layers.MaxPooling2D((2, 2)))\n",
    "CNN_model.add(Dropout(0.25))\n",
    "CNN_model.add(layers.Conv2D(64, (6, 6), activation='relu',padding=\"same\",input_shape=(64,64,3))) \n",
    "CNN_model.add(layers.MaxPooling2D((2, 2)))\n",
    "CNN_model.add(Dropout(0.25))\n",
    "CNN_model.add(layers.Flatten())\n",
    "CNN_model.add(Dense(64,activation=\"relu\"))\n",
    "CNN_model.add(Dropout(0.5))\n",
    "CNN_model.add(Dense(units=4, activation='softmax'))\n",
    "CNN_model.compile(loss=keras.losses.categorical_crossentropy,optimizer = \"adam\",metrics=[\"accuracy\"])\n",
    "CNN_model.summary()"
   ]
  },
  {
   "cell_type": "code",
   "execution_count": 37,
   "metadata": {},
   "outputs": [
    {
     "name": "stdout",
     "output_type": "stream",
     "text": [
      "Epoch 1/50\n",
      "82/82 [==============================] - 38s 452ms/step - loss: 1.3651 - accuracy: 0.2980 - val_loss: 1.3219 - val_accuracy: 0.4299\n",
      "Epoch 2/50\n",
      "82/82 [==============================] - 36s 444ms/step - loss: 1.3112 - accuracy: 0.3769 - val_loss: 1.2872 - val_accuracy: 0.4045\n",
      "Epoch 3/50\n",
      "82/82 [==============================] - 36s 444ms/step - loss: 1.2108 - accuracy: 0.4375 - val_loss: 1.1101 - val_accuracy: 0.4809\n",
      "Epoch 4/50\n",
      "82/82 [==============================] - 36s 438ms/step - loss: 1.1558 - accuracy: 0.4710 - val_loss: 1.0700 - val_accuracy: 0.5159\n",
      "Epoch 5/50\n",
      "82/82 [==============================] - 34s 413ms/step - loss: 1.0695 - accuracy: 0.5347 - val_loss: 1.0928 - val_accuracy: 0.5382\n",
      "Epoch 6/50\n",
      "82/82 [==============================] - 34s 409ms/step - loss: 1.0558 - accuracy: 0.5495 - val_loss: 1.0211 - val_accuracy: 0.5318\n",
      "Epoch 7/50\n",
      "82/82 [==============================] - 34s 415ms/step - loss: 1.0569 - accuracy: 0.5385 - val_loss: 1.0470 - val_accuracy: 0.5382\n",
      "Epoch 8/50\n",
      "82/82 [==============================] - 34s 419ms/step - loss: 0.9985 - accuracy: 0.5880 - val_loss: 1.0087 - val_accuracy: 0.5382\n",
      "Epoch 9/50\n",
      "82/82 [==============================] - 34s 419ms/step - loss: 0.9789 - accuracy: 0.5945 - val_loss: 1.0924 - val_accuracy: 0.5096\n",
      "Epoch 10/50\n",
      "82/82 [==============================] - 36s 435ms/step - loss: 0.9429 - accuracy: 0.6132 - val_loss: 0.8927 - val_accuracy: 0.5732\n",
      "Epoch 11/50\n",
      "82/82 [==============================] - 35s 430ms/step - loss: 0.9381 - accuracy: 0.5884 - val_loss: 1.0101 - val_accuracy: 0.5541\n",
      "Epoch 12/50\n",
      "82/82 [==============================] - 35s 423ms/step - loss: 0.9012 - accuracy: 0.6170 - val_loss: 0.9259 - val_accuracy: 0.6051\n",
      "Epoch 13/50\n",
      "82/82 [==============================] - 35s 432ms/step - loss: 0.8889 - accuracy: 0.6242 - val_loss: 0.9803 - val_accuracy: 0.5764\n",
      "Epoch 14/50\n",
      "82/82 [==============================] - 37s 448ms/step - loss: 0.8777 - accuracy: 0.6250 - val_loss: 1.1390 - val_accuracy: 0.5159\n",
      "Epoch 15/50\n",
      "82/82 [==============================] - 34s 410ms/step - loss: 0.8231 - accuracy: 0.6452 - val_loss: 0.9555 - val_accuracy: 0.5892\n",
      "Epoch 16/50\n",
      "82/82 [==============================] - 34s 418ms/step - loss: 0.8158 - accuracy: 0.6620 - val_loss: 0.7802 - val_accuracy: 0.6338\n",
      "Epoch 17/50\n",
      "82/82 [==============================] - 34s 417ms/step - loss: 0.7854 - accuracy: 0.6723 - val_loss: 0.9061 - val_accuracy: 0.6210\n",
      "Epoch 18/50\n",
      "82/82 [==============================] - 34s 412ms/step - loss: 0.7657 - accuracy: 0.6738 - val_loss: 0.9740 - val_accuracy: 0.5924\n",
      "Epoch 19/50\n",
      "82/82 [==============================] - 34s 418ms/step - loss: 0.7509 - accuracy: 0.6806 - val_loss: 0.9975 - val_accuracy: 0.5796\n",
      "Epoch 20/50\n",
      "82/82 [==============================] - 33s 403ms/step - loss: 0.7383 - accuracy: 0.6986 - val_loss: 1.3231 - val_accuracy: 0.4841\n",
      "Epoch 21/50\n",
      "82/82 [==============================] - 33s 403ms/step - loss: 0.7372 - accuracy: 0.6966 - val_loss: 0.8398 - val_accuracy: 0.6815\n",
      "Epoch 22/50\n",
      "82/82 [==============================] - 33s 400ms/step - loss: 0.6949 - accuracy: 0.7184 - val_loss: 1.0528 - val_accuracy: 0.6115\n",
      "Epoch 23/50\n",
      "82/82 [==============================] - 35s 422ms/step - loss: 0.7078 - accuracy: 0.7081 - val_loss: 0.8962 - val_accuracy: 0.6433\n",
      "Epoch 24/50\n",
      "82/82 [==============================] - 36s 444ms/step - loss: 0.6605 - accuracy: 0.7252 - val_loss: 0.9277 - val_accuracy: 0.6083\n",
      "Epoch 25/50\n",
      "82/82 [==============================] - 35s 423ms/step - loss: 0.6890 - accuracy: 0.7157 - val_loss: 0.8524 - val_accuracy: 0.6242\n",
      "Epoch 26/50\n",
      "82/82 [==============================] - 35s 431ms/step - loss: 0.6783 - accuracy: 0.7306 - val_loss: 0.7601 - val_accuracy: 0.7038\n",
      "Epoch 27/50\n",
      "82/82 [==============================] - 37s 447ms/step - loss: 0.6705 - accuracy: 0.7370 - val_loss: 1.0646 - val_accuracy: 0.5924\n",
      "Epoch 28/50\n",
      "82/82 [==============================] - 33s 403ms/step - loss: 0.6675 - accuracy: 0.7348 - val_loss: 0.8186 - val_accuracy: 0.6624\n",
      "Epoch 29/50\n",
      "82/82 [==============================] - 34s 412ms/step - loss: 0.6285 - accuracy: 0.7443 - val_loss: 0.8757 - val_accuracy: 0.6688\n",
      "Epoch 30/50\n",
      "82/82 [==============================] - 38s 467ms/step - loss: 0.6402 - accuracy: 0.7450 - val_loss: 0.8695 - val_accuracy: 0.6529\n",
      "Epoch 31/50\n",
      "82/82 [==============================] - 37s 453ms/step - loss: 0.6176 - accuracy: 0.7519 - val_loss: 0.9491 - val_accuracy: 0.6338\n",
      "Epoch 32/50\n",
      "82/82 [==============================] - 37s 452ms/step - loss: 0.5899 - accuracy: 0.7557 - val_loss: 1.1651 - val_accuracy: 0.6146\n",
      "Epoch 33/50\n",
      "82/82 [==============================] - 35s 424ms/step - loss: 0.6174 - accuracy: 0.7588 - val_loss: 1.0276 - val_accuracy: 0.6338\n",
      "Epoch 34/50\n",
      "82/82 [==============================] - 35s 425ms/step - loss: 0.5670 - accuracy: 0.7694 - val_loss: 0.7451 - val_accuracy: 0.7070\n",
      "Epoch 35/50\n",
      "82/82 [==============================] - 36s 437ms/step - loss: 0.5787 - accuracy: 0.7713 - val_loss: 0.8940 - val_accuracy: 0.7134\n",
      "Epoch 36/50\n",
      "82/82 [==============================] - 35s 424ms/step - loss: 0.5738 - accuracy: 0.7694 - val_loss: 0.9548 - val_accuracy: 0.6369\n",
      "Epoch 37/50\n",
      "82/82 [==============================] - 38s 467ms/step - loss: 0.5716 - accuracy: 0.7713 - val_loss: 0.6301 - val_accuracy: 0.7548\n",
      "Epoch 38/50\n",
      "82/82 [==============================] - 37s 445ms/step - loss: 0.5868 - accuracy: 0.7706 - val_loss: 0.9469 - val_accuracy: 0.6306\n",
      "Epoch 39/50\n",
      "82/82 [==============================] - 36s 433ms/step - loss: 0.5619 - accuracy: 0.7904 - val_loss: 0.9514 - val_accuracy: 0.6720\n",
      "Epoch 40/50\n",
      "82/82 [==============================] - 34s 415ms/step - loss: 0.5706 - accuracy: 0.7782 - val_loss: 0.8409 - val_accuracy: 0.7070\n",
      "Epoch 41/50\n",
      "82/82 [==============================] - 36s 442ms/step - loss: 0.5443 - accuracy: 0.7824 - val_loss: 0.8560 - val_accuracy: 0.6847\n",
      "Epoch 42/50\n",
      "82/82 [==============================] - 33s 403ms/step - loss: 0.5142 - accuracy: 0.8125 - val_loss: 0.8101 - val_accuracy: 0.7102\n",
      "Epoch 43/50\n",
      "82/82 [==============================] - 32s 393ms/step - loss: 0.5434 - accuracy: 0.7923 - val_loss: 0.7120 - val_accuracy: 0.7452\n",
      "Epoch 44/50\n",
      "82/82 [==============================] - 35s 429ms/step - loss: 0.5262 - accuracy: 0.7957 - val_loss: 0.8149 - val_accuracy: 0.7516\n",
      "Epoch 45/50\n",
      "82/82 [==============================] - 38s 465ms/step - loss: 0.5122 - accuracy: 0.8007 - val_loss: 0.8249 - val_accuracy: 0.6911\n",
      "Epoch 46/50\n",
      "82/82 [==============================] - 45s 554ms/step - loss: 0.5172 - accuracy: 0.7896 - val_loss: 0.6479 - val_accuracy: 0.7516\n",
      "Epoch 47/50\n",
      "82/82 [==============================] - 41s 498ms/step - loss: 0.5044 - accuracy: 0.8079 - val_loss: 0.6826 - val_accuracy: 0.7866\n",
      "Epoch 48/50\n",
      "82/82 [==============================] - 35s 426ms/step - loss: 0.4807 - accuracy: 0.8121 - val_loss: 0.7267 - val_accuracy: 0.7611\n",
      "Epoch 49/50\n",
      "82/82 [==============================] - 35s 422ms/step - loss: 0.4869 - accuracy: 0.8037 - val_loss: 0.6916 - val_accuracy: 0.7675\n",
      "Epoch 50/50\n",
      "82/82 [==============================] - 40s 483ms/step - loss: 0.5036 - accuracy: 0.8129 - val_loss: 0.6055 - val_accuracy: 0.7803\n"
     ]
    }
   ],
   "source": [
    "epochs = 50\n",
    "batch_size = 32\n",
    "num_of_train_samples = 2624  \n",
    "num_of_val_samples = 314 \n",
    "\n",
    "CNNmodel = CNN_model.fit_generator(\n",
    "    train_set,\n",
    "    steps_per_epoch = num_of_train_samples / batch_size,\n",
    "    epochs = epochs,\n",
    "    validation_data = val_gen,\n",
    "    validation_steps = num_of_val_samples / batch_size\n",
    ")"
   ]
  },
  {
   "cell_type": "code",
   "execution_count": 38,
   "metadata": {},
   "outputs": [],
   "source": [
    "CNN_model.save('CNN_model_brain.h5')"
   ]
  },
  {
   "cell_type": "code",
   "execution_count": 39,
   "metadata": {},
   "outputs": [
    {
     "name": "stdout",
     "output_type": "stream",
     "text": [
      "11/11 [==============================] - 1s 107ms/step - loss: 0.5304 - accuracy: 0.8162\n",
      "Test loss: 0.5304241180419922\n",
      "Test accuracy: 0.8161993622779846\n"
     ]
    }
   ],
   "source": [
    "score = CNN_model.evaluate(test_set, verbose=1)\n",
    "\n",
    "print('Test loss:', score[0])\n",
    "print('Test accuracy:', score[1])"
   ]
  },
  {
   "cell_type": "code",
   "execution_count": 40,
   "metadata": {},
   "outputs": [
    {
     "data": {
      "image/png": "[encoded data removed]",
      "text/plain": [
       "<Figure size 1080x1080 with 2 Axes>"
      ]
     },
     "metadata": {
      "needs_background": "light"
     },
     "output_type": "display_data"
    }
   ],
   "source": [
    "conf_mat=confusion_matrix(y_true=test_set.classes[test_set.index_array], y_pred=np.argmax(CNN_model.predict(test_set), axis=1))\n",
    "\n",
    "plt.figure(figsize = (15,15))\n",
    "x_axis_labels = ['glioma_tumor', 'meningioma_tumor', 'no_tumor', 'pituitary_tumor']\n",
    "y_axis_labels =  ['glioma_tumor', 'meningioma_tumor', 'no_tumor', 'pituitary_tumor']\n",
    "sns.heatmap(conf_mat,annot=True,cbar=True,cmap=\"viridis\",linewidths=0.7, xticklabels=x_axis_labels,yticklabels=y_axis_labels)\n",
    "plt.title('Confusion Matrix',size = 20)\n",
    "plt.xlabel(\"Predicted Label\", size = 10)\n",
    "plt.ylabel(\"True Label\", size = 10)\n",
    "plt.show()"
   ]
  },
  {
   "cell_type": "code",
   "execution_count": 41,
   "metadata": {},
   "outputs": [],
   "source": [
    "target_names = list(train_set.class_indices.keys())\n",
    "trueClass=test_set.classes[test_set.index_array]\n",
    "predictedClass=np.argmax(CNN_model.predict(test_set), axis=1)"
   ]
  },
  {
   "cell_type": "code",
   "execution_count": 42,
   "metadata": {},
   "outputs": [
    {
     "name": "stdout",
     "output_type": "stream",
     "text": [
      "                  precision    recall  f1-score   support\n",
      "\n",
      "    glioma_tumor       0.78      0.83      0.80        94\n",
      "meningioma_tumor       0.76      0.74      0.75        95\n",
      "        no_tumor       0.80      0.80      0.80        41\n",
      " pituitary_tumor       0.92      0.89      0.91        91\n",
      "\n",
      "        accuracy                           0.82       321\n",
      "       macro avg       0.82      0.82      0.82       321\n",
      "    weighted avg       0.82      0.82      0.82       321\n",
      "\n"
     ]
    }
   ],
   "source": [
    "print(classification_report(trueClass, predictedClass, target_names=target_names))"
   ]
  },
  {
   "cell_type": "code",
   "execution_count": null,
   "metadata": {},
   "outputs": [],
   "source": []
  }
 ],
 "metadata": {
  "kernelspec": {
   "display_name": "Python (Capstone-NLP)",
   "language": "python",
   "name": "capstone-nlp"
  },
  "language_info": {
   "codemirror_mode": {
    "name": "ipython",
    "version": 3
   },
   "file_extension": ".py",
   "mimetype": "text/x-python",
   "name": "python",
   "nbconvert_exporter": "python",
   "pygments_lexer": "ipython3",
   "version": "3.7.6"
  },
  "toc": {
   "base_numbering": 1,
   "nav_menu": {},
   "number_sections": false,
   "sideBar": true,
   "skip_h1_title": false,
   "title_cell": "Table of Contents",
   "title_sidebar": "Contents",
   "toc_cell": false,
   "toc_position": {},
   "toc_section_display": true,
   "toc_window_display": true
  }
 },
 "nbformat": 4,
 "nbformat_minor": 4
}
