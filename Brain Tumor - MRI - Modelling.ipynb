{
 "cells": [
  {
   "cell_type": "markdown",
   "metadata": {},
   "source": [
    "# Hack Western - MRI - Brain Tumor"
   ]
  },
  {
   "cell_type": "code",
   "execution_count": 12,
   "metadata": {},
   "outputs": [],
   "source": [
    "import numpy as np\n",
    "import pandas as pd\n",
    "import os\n",
    "import tensorflow as tf\n",
    "from tensorflow import keras\n",
    "import matplotlib.pyplot as plt\n",
    "import seaborn as sns\n",
    "import string\n",
    "import nltk\n",
    "import warnings\n",
    "warnings.filterwarnings(\"ignore\")\n",
    "import shutil\n",
    "import matplotlib.pyplot as plt\n",
    "%matplotlib inline\n",
    "from tensorflow.keras import layers\n",
    "from keras.callbacks import EarlyStopping\n",
    "import pickle\n",
    "import keras\n",
    "from keras.layers import *\n",
    "from keras.models import *\n",
    "from keras.preprocessing import image\n",
    "from keras.preprocessing.image import load_img\n",
    "from keras.preprocessing.image import img_to_array\n",
    "from keras.preprocessing.image import array_to_img\n",
    "from tensorflow.python.keras.preprocessing.image import ImageDataGenerator\n",
    "from tensorflow.python.keras.preprocessing.image import ImageDataGenerator,array_to_img\n",
    "from keras.models import Sequential\n",
    "from tensorflow.keras.models import Sequential\n",
    "from tensorflow.keras.layers import Conv2D\n",
    "from tensorflow.keras.layers import MaxPooling2D\n",
    "from tensorflow.keras.layers import Dense\n",
    "from tensorflow.keras.layers import Dropout\n",
    "from tensorflow.keras.layers import Flatten\n",
    "from keras.applications.imagenet_utils import preprocess_input, decode_predictions\n",
    "from tensorflow.keras.models import Model, load_model\n",
    "from sklearn.metrics import confusion_matrix\n",
    "from sklearn.metrics import classification_report"
   ]
  },
  {
   "cell_type": "markdown",
   "metadata": {},
   "source": [
    "__Split data into train, test and val__"
   ]
  },
  {
   "cell_type": "code",
   "execution_count": 2,
   "metadata": {},
   "outputs": [
    {
     "name": "stderr",
     "output_type": "stream",
     "text": [
      "Copying files: 3160 files [00:18, 166.85 files/s]\n"
     ]
    }
   ],
   "source": [
    "import splitfolders\n",
    "splitfolders.ratio('MRI - BrainTurmor/dataset', output=\"MRI - BrainTurmor/train-test-val_datasets\", seed=123, ratio=(.8, 0.1, 0.1))"
   ]
  },
  {
   "cell_type": "markdown",
   "metadata": {},
   "source": [
    "__Data Augmentation__"
   ]
  },
  {
   "cell_type": "code",
   "execution_count": 16,
   "metadata": {},
   "outputs": [
    {
     "name": "stdout",
     "output_type": "stream",
     "text": [
      "Found 2624 images belonging to 4 classes.\n",
      "Found 314 images belonging to 4 classes.\n",
      "Found 321 images belonging to 4 classes.\n"
     ]
    }
   ],
   "source": [
    "image_dimension = 224\n",
    "batch_size = 32\n",
    "\n",
    "# Creating training, validation, and test image flows\n",
    "train_gen = ImageDataGenerator(rescale = 1/255,\n",
    "                               shear_range = 0.2,\n",
    "                               zoom_range = 0.2,\n",
    "                               width_shift_range= 0.2,\n",
    "                               height_shift_range=0.2,\n",
    "                               rotation_range=0.3,\n",
    "                               horizontal_flip = True)\n",
    "\n",
    "\n",
    "\n",
    "test_gen = ImageDataGenerator(rescale = 1/255)\n",
    "\n",
    "\n",
    "##############################################################################\n",
    "\n",
    "train_set = train_gen.flow_from_directory('MRI - BrainTurmor/train-test-val_datasets/train',\n",
    "                                          target_size = (image_dimension,image_dimension), \n",
    "                                          batch_size = batch_size,\n",
    "                                          class_mode = 'categorical', color_mode='grayscale')\n",
    "\n",
    "\n",
    "val_gen = test_gen.flow_from_directory('MRI - BrainTurmor/train-test-val_datasets/val',\n",
    "                                      target_size = (image_dimension,image_dimension),\n",
    "                                      batch_size = batch_size,\n",
    "                                      class_mode = 'categorical', color_mode='grayscale')\n",
    "\n",
    "\n",
    "\n",
    "test_set = test_gen.flow_from_directory('MRI - BrainTurmor/train-test-val_datasets/test',\n",
    "                                        target_size = (image_dimension,image_dimension),\n",
    "                                        batch_size = batch_size,\n",
    "                                        class_mode = 'categorical', color_mode='grayscale',\n",
    "                                        shuffle=False)"
   ]
  },
  {
   "cell_type": "code",
   "execution_count": 17,
   "metadata": {},
   "outputs": [
    {
     "data": {
      "text/plain": [
       "{'glioma_tumor': 0, 'meningioma_tumor': 1, 'no_tumor': 2, 'pituitary_tumor': 3}"
      ]
     },
     "execution_count": 17,
     "metadata": {},
     "output_type": "execute_result"
    }
   ],
   "source": [
    "train_set.class_indices"
   ]
  },
  {
   "cell_type": "markdown",
   "metadata": {},
   "source": [
    "### Modeling"
   ]
  },
  {
   "cell_type": "code",
   "execution_count": 24,
   "metadata": {},
   "outputs": [
    {
     "name": "stdout",
     "output_type": "stream",
     "text": [
      "Model: \"sequential_4\"\n",
      "_________________________________________________________________\n",
      "Layer (type)                 Output Shape              Param #   \n",
      "=================================================================\n",
      "conv2d_10 (Conv2D)           (None, 222, 222, 32)      320       \n",
      "_________________________________________________________________\n",
      "max_pooling2d_10 (MaxPooling (None, 111, 111, 32)      0         \n",
      "_________________________________________________________________\n",
      "dropout_15 (Dropout)         (None, 111, 111, 32)      0         \n",
      "_________________________________________________________________\n",
      "conv2d_11 (Conv2D)           (None, 109, 109, 64)      18496     \n",
      "_________________________________________________________________\n",
      "max_pooling2d_11 (MaxPooling (None, 54, 54, 64)        0         \n",
      "_________________________________________________________________\n",
      "dropout_16 (Dropout)         (None, 54, 54, 64)        0         \n",
      "_________________________________________________________________\n",
      "conv2d_12 (Conv2D)           (None, 49, 49, 64)        147520    \n",
      "_________________________________________________________________\n",
      "max_pooling2d_12 (MaxPooling (None, 24, 24, 64)        0         \n",
      "_________________________________________________________________\n",
      "dropout_17 (Dropout)         (None, 24, 24, 64)        0         \n",
      "_________________________________________________________________\n",
      "conv2d_13 (Conv2D)           (None, 24, 24, 64)        147520    \n",
      "_________________________________________________________________\n",
      "max_pooling2d_13 (MaxPooling (None, 12, 12, 64)        0         \n",
      "_________________________________________________________________\n",
      "dropout_18 (Dropout)         (None, 12, 12, 64)        0         \n",
      "_________________________________________________________________\n",
      "flatten_4 (Flatten)          (None, 9216)              0         \n",
      "_________________________________________________________________\n",
      "dense_11 (Dense)             (None, 64)                589888    \n",
      "_________________________________________________________________\n",
      "dropout_19 (Dropout)         (None, 64)                0         \n",
      "_________________________________________________________________\n",
      "dense_12 (Dense)             (None, 4)                 260       \n",
      "=================================================================\n",
      "Total params: 904,004\n",
      "Trainable params: 904,004\n",
      "Non-trainable params: 0\n",
      "_________________________________________________________________\n"
     ]
    }
   ],
   "source": [
    "CNN_model = Sequential()\n",
    "\n",
    "CNN_model.add(Conv2D(32,kernel_size=(3,3),activation=\"relu\",input_shape=(224,224,1))) #firstlayer\n",
    "CNN_model.add(layers.MaxPooling2D((2, 2)))\n",
    "CNN_model.add(Dropout(0.25))\n",
    "CNN_model.add(layers.Conv2D(64, (3, 3), activation='relu',input_shape=(64,64,3)))\n",
    "CNN_model.add(layers.MaxPooling2D((2, 2)))\n",
    "CNN_model.add(Dropout(0.25))\n",
    "CNN_model.add(layers.Conv2D(64, (6, 6), activation='relu',input_shape=(64,64,3))) \n",
    "CNN_model.add(layers.MaxPooling2D((2, 2)))\n",
    "CNN_model.add(Dropout(0.25))\n",
    "CNN_model.add(layers.Conv2D(64, (6, 6), activation='relu',padding=\"same\",input_shape=(64,64,3))) \n",
    "CNN_model.add(layers.MaxPooling2D((2, 2)))\n",
    "CNN_model.add(Dropout(0.25))\n",
    "CNN_model.add(layers.Flatten())\n",
    "CNN_model.add(Dense(64,activation=\"relu\"))\n",
    "CNN_model.add(Dropout(0.5))\n",
    "CNN_model.add(Dense(units=4, activation='softmax'))\n",
    "CNN_model.compile(loss=keras.losses.categorical_crossentropy,optimizer = \"adam\",metrics=[\"accuracy\"])\n",
    "CNN_model.summary()"
   ]
  },
  {
   "cell_type": "code",
   "execution_count": 25,
   "metadata": {},
   "outputs": [
    {
     "name": "stdout",
     "output_type": "stream",
     "text": [
      "Epoch 1/50\n",
      "82/82 [==============================] - 19s 218ms/step - loss: 1.3564 - accuracy: 0.3209 - val_loss: 1.3411 - val_accuracy: 0.3535\n",
      "Epoch 2/50\n",
      "82/82 [==============================] - 17s 213ms/step - loss: 1.2781 - accuracy: 0.3937 - val_loss: 1.2160 - val_accuracy: 0.4586\n",
      "Epoch 3/50\n",
      "82/82 [==============================] - 18s 217ms/step - loss: 1.1966 - accuracy: 0.4695 - val_loss: 1.2711 - val_accuracy: 0.4076\n",
      "Epoch 4/50\n",
      "82/82 [==============================] - 18s 219ms/step - loss: 1.1723 - accuracy: 0.4863 - val_loss: 1.1581 - val_accuracy: 0.4650\n",
      "Epoch 5/50\n",
      "82/82 [==============================] - 17s 212ms/step - loss: 1.1124 - accuracy: 0.5263 - val_loss: 1.1356 - val_accuracy: 0.4968\n",
      "Epoch 6/50\n",
      "82/82 [==============================] - 17s 210ms/step - loss: 1.0617 - accuracy: 0.5469 - val_loss: 1.0048 - val_accuracy: 0.5796\n",
      "Epoch 7/50\n",
      "82/82 [==============================] - 17s 211ms/step - loss: 1.0231 - accuracy: 0.5675 - val_loss: 0.9882 - val_accuracy: 0.5764\n",
      "Epoch 8/50\n",
      "82/82 [==============================] - 18s 213ms/step - loss: 0.9901 - accuracy: 0.5812 - val_loss: 0.9353 - val_accuracy: 0.5987\n",
      "Epoch 9/50\n",
      "82/82 [==============================] - 18s 213ms/step - loss: 0.9589 - accuracy: 0.6101 - val_loss: 1.0156 - val_accuracy: 0.5510\n",
      "Epoch 10/50\n",
      "82/82 [==============================] - 18s 218ms/step - loss: 0.9393 - accuracy: 0.6101 - val_loss: 0.8651 - val_accuracy: 0.6178\n",
      "Epoch 11/50\n",
      "82/82 [==============================] - 18s 214ms/step - loss: 0.8840 - accuracy: 0.6349 - val_loss: 0.9660 - val_accuracy: 0.6115\n",
      "Epoch 12/50\n",
      "82/82 [==============================] - 17s 210ms/step - loss: 0.8834 - accuracy: 0.6441 - val_loss: 0.8128 - val_accuracy: 0.6401\n",
      "Epoch 13/50\n",
      "82/82 [==============================] - 18s 213ms/step - loss: 0.8442 - accuracy: 0.6543 - val_loss: 0.9742 - val_accuracy: 0.5732\n",
      "Epoch 14/50\n",
      "82/82 [==============================] - 18s 222ms/step - loss: 0.8125 - accuracy: 0.6650 - val_loss: 0.8157 - val_accuracy: 0.6656\n",
      "Epoch 15/50\n",
      "82/82 [==============================] - 18s 217ms/step - loss: 0.8126 - accuracy: 0.6681 - val_loss: 0.8806 - val_accuracy: 0.6306\n",
      "Epoch 16/50\n",
      "82/82 [==============================] - 17s 212ms/step - loss: 0.7837 - accuracy: 0.6814 - val_loss: 0.8201 - val_accuracy: 0.6592\n",
      "Epoch 17/50\n",
      "82/82 [==============================] - 18s 217ms/step - loss: 0.7921 - accuracy: 0.6795 - val_loss: 0.8254 - val_accuracy: 0.6338\n",
      "Epoch 18/50\n",
      "82/82 [==============================] - 17s 211ms/step - loss: 0.7483 - accuracy: 0.6928 - val_loss: 0.9456 - val_accuracy: 0.5955\n",
      "Epoch 19/50\n",
      "82/82 [==============================] - 17s 211ms/step - loss: 0.7356 - accuracy: 0.6978 - val_loss: 0.7749 - val_accuracy: 0.6592\n",
      "Epoch 20/50\n",
      "82/82 [==============================] - 18s 213ms/step - loss: 0.7499 - accuracy: 0.7085 - val_loss: 0.7944 - val_accuracy: 0.6975\n",
      "Epoch 21/50\n",
      "82/82 [==============================] - 17s 212ms/step - loss: 0.7109 - accuracy: 0.7130 - val_loss: 0.8280 - val_accuracy: 0.6720\n",
      "Epoch 22/50\n",
      "82/82 [==============================] - 18s 214ms/step - loss: 0.7301 - accuracy: 0.7134 - val_loss: 0.7113 - val_accuracy: 0.7038\n",
      "Epoch 23/50\n",
      "82/82 [==============================] - 18s 213ms/step - loss: 0.6584 - accuracy: 0.7405 - val_loss: 0.6536 - val_accuracy: 0.7357\n",
      "Epoch 24/50\n",
      "82/82 [==============================] - 17s 211ms/step - loss: 0.6589 - accuracy: 0.7378 - val_loss: 0.6721 - val_accuracy: 0.7452\n",
      "Epoch 25/50\n",
      "82/82 [==============================] - 17s 211ms/step - loss: 0.6319 - accuracy: 0.7546 - val_loss: 0.6285 - val_accuracy: 0.7580\n",
      "Epoch 26/50\n",
      "82/82 [==============================] - 18s 214ms/step - loss: 0.6474 - accuracy: 0.7454 - val_loss: 0.6835 - val_accuracy: 0.7389\n",
      "Epoch 27/50\n",
      "82/82 [==============================] - 17s 212ms/step - loss: 0.6208 - accuracy: 0.7603 - val_loss: 0.6879 - val_accuracy: 0.7038\n",
      "Epoch 28/50\n",
      "82/82 [==============================] - 18s 219ms/step - loss: 0.6178 - accuracy: 0.7519 - val_loss: 0.6157 - val_accuracy: 0.7707\n",
      "Epoch 29/50\n",
      "82/82 [==============================] - 18s 213ms/step - loss: 0.5819 - accuracy: 0.7694 - val_loss: 0.6212 - val_accuracy: 0.7739\n",
      "Epoch 30/50\n",
      "82/82 [==============================] - 17s 209ms/step - loss: 0.5953 - accuracy: 0.7721 - val_loss: 0.6453 - val_accuracy: 0.7484\n",
      "Epoch 31/50\n",
      "82/82 [==============================] - 18s 221ms/step - loss: 0.5461 - accuracy: 0.7755 - val_loss: 0.6422 - val_accuracy: 0.7611\n",
      "Epoch 32/50\n",
      "82/82 [==============================] - 19s 232ms/step - loss: 0.5872 - accuracy: 0.7603 - val_loss: 0.6398 - val_accuracy: 0.7516\n",
      "Epoch 33/50\n",
      "82/82 [==============================] - 19s 229ms/step - loss: 0.5603 - accuracy: 0.7896 - val_loss: 0.5536 - val_accuracy: 0.7898\n",
      "Epoch 34/50\n",
      "82/82 [==============================] - 19s 230ms/step - loss: 0.5550 - accuracy: 0.7912 - val_loss: 0.5357 - val_accuracy: 0.7803\n",
      "Epoch 35/50\n",
      "82/82 [==============================] - 19s 232ms/step - loss: 0.5568 - accuracy: 0.7923 - val_loss: 0.5340 - val_accuracy: 0.7994\n",
      "Epoch 36/50\n",
      "82/82 [==============================] - 20s 239ms/step - loss: 0.5108 - accuracy: 0.8030 - val_loss: 0.5920 - val_accuracy: 0.8057\n",
      "Epoch 37/50\n",
      "82/82 [==============================] - 18s 222ms/step - loss: 0.5006 - accuracy: 0.8152 - val_loss: 0.6024 - val_accuracy: 0.7739\n",
      "Epoch 38/50\n",
      "82/82 [==============================] - 19s 231ms/step - loss: 0.5272 - accuracy: 0.8072 - val_loss: 0.5275 - val_accuracy: 0.7994\n",
      "Epoch 39/50\n",
      "82/82 [==============================] - 19s 232ms/step - loss: 0.5292 - accuracy: 0.8056 - val_loss: 0.5356 - val_accuracy: 0.8121\n",
      "Epoch 40/50\n",
      "82/82 [==============================] - 18s 220ms/step - loss: 0.5086 - accuracy: 0.8072 - val_loss: 0.4834 - val_accuracy: 0.8248\n",
      "Epoch 41/50\n",
      "82/82 [==============================] - 19s 235ms/step - loss: 0.4594 - accuracy: 0.8316 - val_loss: 0.5412 - val_accuracy: 0.7994\n",
      "Epoch 42/50\n",
      "82/82 [==============================] - 19s 233ms/step - loss: 0.5044 - accuracy: 0.8102 - val_loss: 0.4916 - val_accuracy: 0.8312\n",
      "Epoch 43/50\n",
      "82/82 [==============================] - 19s 228ms/step - loss: 0.4995 - accuracy: 0.8064 - val_loss: 0.5332 - val_accuracy: 0.8312\n",
      "Epoch 44/50\n",
      "82/82 [==============================] - 19s 234ms/step - loss: 0.4737 - accuracy: 0.8247 - val_loss: 0.5796 - val_accuracy: 0.7930\n",
      "Epoch 45/50\n",
      "82/82 [==============================] - 19s 229ms/step - loss: 0.4681 - accuracy: 0.8209 - val_loss: 0.5129 - val_accuracy: 0.8217\n",
      "Epoch 46/50\n",
      "82/82 [==============================] - 19s 231ms/step - loss: 0.4448 - accuracy: 0.8384 - val_loss: 0.5327 - val_accuracy: 0.8185\n",
      "Epoch 47/50\n",
      "82/82 [==============================] - 20s 240ms/step - loss: 0.4379 - accuracy: 0.8369 - val_loss: 0.6765 - val_accuracy: 0.7707\n",
      "Epoch 48/50\n",
      "82/82 [==============================] - 19s 233ms/step - loss: 0.4525 - accuracy: 0.8289 - val_loss: 0.4908 - val_accuracy: 0.8217\n",
      "Epoch 49/50\n",
      "82/82 [==============================] - 19s 229ms/step - loss: 0.4450 - accuracy: 0.8388 - val_loss: 0.4693 - val_accuracy: 0.8376\n",
      "Epoch 50/50\n",
      "82/82 [==============================] - 19s 231ms/step - loss: 0.4135 - accuracy: 0.8350 - val_loss: 0.5003 - val_accuracy: 0.8344\n"
     ]
    }
   ],
   "source": [
    "epochs = 50\n",
    "batch_size = 32\n",
    "num_of_train_samples = 2624  \n",
    "num_of_val_samples = 314 \n",
    "\n",
    "CNNmodel = CNN_model.fit_generator(\n",
    "    train_set,\n",
    "    steps_per_epoch = num_of_train_samples / batch_size,\n",
    "    epochs = epochs,\n",
    "    validation_data = val_gen,\n",
    "    validation_steps = num_of_val_samples / batch_size\n",
    ")"
   ]
  },
  {
   "cell_type": "code",
   "execution_count": 26,
   "metadata": {},
   "outputs": [],
   "source": [
    "CNN_model.save('CNN_model_brain.h5')"
   ]
  },
  {
   "cell_type": "code",
   "execution_count": 27,
   "metadata": {},
   "outputs": [
    {
     "name": "stdout",
     "output_type": "stream",
     "text": [
      "11/11 [==============================] - 1s 97ms/step - loss: 0.4081 - accuracy: 0.8598\n",
      "Test loss: 0.4080888628959656\n",
      "Test accuracy: 0.8598130941390991\n"
     ]
    }
   ],
   "source": [
    "score = CNN_model.evaluate(test_set, verbose=1)\n",
    "\n",
    "print('Test loss:', score[0])\n",
    "print('Test accuracy:', score[1])"
   ]
  },
  {
   "cell_type": "code",
   "execution_count": 31,
   "metadata": {},
   "outputs": [
    {
     "data": {
      "image/png": "[encoded data removed]",
      "text/plain": [
       "<Figure size 1080x1080 with 2 Axes>"
      ]
     },
     "metadata": {
      "needs_background": "light"
     },
     "output_type": "display_data"
    }
   ],
   "source": [
    "conf_mat=confusion_matrix(y_true=test_set.classes[test_set.index_array], y_pred=np.argmax(CNN_model.predict(test_set), axis=1))\n",
    "\n",
    "plt.figure(figsize = (15,15))\n",
    "x_axis_labels = ['glioma_tumor', 'meningioma_tumor', 'no_tumor', 'pituitary_tumor']\n",
    "y_axis_labels =  ['glioma_tumor', 'meningioma_tumor', 'no_tumor', 'pituitary_tumor']\n",
    "sns.heatmap(conf_mat,annot=True,cbar=True,cmap=\"viridis\",linewidths=0.7, xticklabels=x_axis_labels,yticklabels=y_axis_labels)\n",
    "plt.title('Confusion Matrix',size = 20)\n",
    "plt.xlabel(\"Predicted Label\", size = 10)\n",
    "plt.ylabel(\"True Label\", size = 10)\n",
    "plt.show()"
   ]
  },
  {
   "cell_type": "code",
   "execution_count": 32,
   "metadata": {},
   "outputs": [],
   "source": [
    "target_names = list(train_set.class_indices.keys())\n",
    "trueClass=test_set.classes[test_set.index_array]\n",
    "predictedClass=np.argmax(CNN_model.predict(test_set), axis=1)"
   ]
  },
  {
   "cell_type": "code",
   "execution_count": 33,
   "metadata": {},
   "outputs": [
    {
     "name": "stdout",
     "output_type": "stream",
     "text": [
      "                  precision    recall  f1-score   support\n",
      "\n",
      "    glioma_tumor       0.94      0.80      0.86        94\n",
      "meningioma_tumor       0.80      0.83      0.81        95\n",
      "        no_tumor       0.77      0.88      0.82        41\n",
      " pituitary_tumor       0.91      0.95      0.92        91\n",
      "\n",
      "        accuracy                           0.86       321\n",
      "       macro avg       0.85      0.86      0.85       321\n",
      "    weighted avg       0.87      0.86      0.86       321\n",
      "\n"
     ]
    }
   ],
   "source": [
    "print(classification_report(trueClass, predictedClass, target_names=target_names))"
   ]
  },
  {
   "cell_type": "code",
   "execution_count": null,
   "metadata": {},
   "outputs": [],
   "source": []
  }
 ],
 "metadata": {
  "kernelspec": {
   "display_name": "Python (Capstone-NLP)",
   "language": "python",
   "name": "capstone-nlp"
  },
  "language_info": {
   "codemirror_mode": {
    "name": "ipython",
    "version": 3
   },
   "file_extension": ".py",
   "mimetype": "text/x-python",
   "name": "python",
   "nbconvert_exporter": "python",
   "pygments_lexer": "ipython3",
   "version": "3.7.6"
  },
  "toc": {
   "base_numbering": 1,
   "nav_menu": {},
   "number_sections": false,
   "sideBar": true,
   "skip_h1_title": false,
   "title_cell": "Table of Contents",
   "title_sidebar": "Contents",
   "toc_cell": false,
   "toc_position": {},
   "toc_section_display": true,
   "toc_window_display": true
  }
 },
 "nbformat": 4,
 "nbformat_minor": 4
}
