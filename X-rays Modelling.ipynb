{
 "cells": [
  {
   "cell_type": "markdown",
   "metadata": {},
   "source": [
    "# Hack Western - X-ray"
   ]
  },
  {
   "cell_type": "code",
   "execution_count": 110,
   "metadata": {},
   "outputs": [],
   "source": [
    "import numpy as np\n",
    "import pandas as pd\n",
    "import os\n",
    "import tensorflow as tf\n",
    "from tensorflow import keras\n",
    "import matplotlib.pyplot as plt\n",
    "import seaborn as sns\n",
    "import string\n",
    "import nltk\n",
    "import warnings\n",
    "warnings.filterwarnings(\"ignore\")\n",
    "import shutil\n",
    "import matplotlib.pyplot as plt\n",
    "%matplotlib inline\n",
    "from tensorflow.keras import layers\n",
    "from keras.callbacks import EarlyStopping\n",
    "import pickle\n",
    "import keras\n",
    "from keras.layers import *\n",
    "from keras.models import *\n",
    "from keras.preprocessing import image\n",
    "from keras.preprocessing.image import load_img\n",
    "from keras.preprocessing.image import img_to_array\n",
    "from keras.preprocessing.image import array_to_img\n",
    "from tensorflow.python.keras.preprocessing.image import ImageDataGenerator\n",
    "from tensorflow.python.keras.preprocessing.image import ImageDataGenerator,array_to_img\n",
    "from keras.models import Sequential\n",
    "from tensorflow.keras.models import Sequential\n",
    "from tensorflow.keras.layers import Conv2D\n",
    "from tensorflow.keras.layers import MaxPooling2D\n",
    "from tensorflow.keras.layers import Dense\n",
    "from tensorflow.keras.layers import Dropout\n",
    "from tensorflow.keras.layers import Flatten\n",
    "from keras.applications.imagenet_utils import preprocess_input, decode_predictions\n",
    "from tensorflow.keras.models import Model, load_model\n",
    "from sklearn.metrics import confusion_matrix\n",
    "from sklearn.metrics import classification_report"
   ]
  },
  {
   "cell_type": "markdown",
   "metadata": {},
   "source": [
    "__Split data into train, test and val__"
   ]
  },
  {
   "cell_type": "code",
   "execution_count": 47,
   "metadata": {},
   "outputs": [
    {
     "name": "stderr",
     "output_type": "stream",
     "text": [
      "Copying files: 784 files [00:01, 489.97 files/s]\n"
     ]
    }
   ],
   "source": [
    "import splitfolders\n",
    "splitfolders.ratio('Xray - TB Pnemonia COVID/dataset', output=\"Xray - TB Pnemonia COVID/train-test-val_datasets\", seed=123, ratio=(.8, 0.1, 0.1))"
   ]
  },
  {
   "cell_type": "markdown",
   "metadata": {},
   "source": [
    "__Data Augmentation__"
   ]
  },
  {
   "cell_type": "code",
   "execution_count": 49,
   "metadata": {},
   "outputs": [
    {
     "name": "stdout",
     "output_type": "stream",
     "text": [
      "Found 624 images belonging to 4 classes.\n",
      "Found 76 images belonging to 4 classes.\n",
      "Found 84 images belonging to 4 classes.\n"
     ]
    }
   ],
   "source": [
    "image_dimension = 224\n",
    "batch_size = 32\n",
    "\n",
    "# Creating training, validation, and test image flows\n",
    "train_gen = ImageDataGenerator(rescale = 1/255,\n",
    "                               shear_range = 0.2,\n",
    "                               zoom_range = 0.2,\n",
    "                               width_shift_range= 0.2,\n",
    "                               height_shift_range=0.2,\n",
    "                               rotation_range=0.3,\n",
    "                               horizontal_flip = True)\n",
    "\n",
    "\n",
    "\n",
    "test_gen = ImageDataGenerator(rescale = 1/255)\n",
    "\n",
    "\n",
    "##############################################################################\n",
    "\n",
    "train_set = train_gen.flow_from_directory('Xray - TB Pnemonia COVID/train-test-val_datasets/train',\n",
    "                                          target_size = (image_dimension,image_dimension), \n",
    "                                          batch_size = batch_size,\n",
    "                                          class_mode = 'categorical')\n",
    "\n",
    "\n",
    "val_gen = test_gen.flow_from_directory('Xray - TB Pnemonia COVID/train-test-val_datasets/val',\n",
    "                                      target_size = (image_dimension,image_dimension),\n",
    "                                      batch_size = batch_size,\n",
    "                                      class_mode = 'categorical')\n",
    "\n",
    "\n",
    "\n",
    "test_set = test_gen.flow_from_directory('Xray - TB Pnemonia COVID/train-test-val_datasets/test',\n",
    "                                        target_size = (image_dimension,image_dimension),\n",
    "                                        batch_size = batch_size,\n",
    "                                        class_mode = 'categorical',\n",
    "                                        shuffle=False)"
   ]
  },
  {
   "cell_type": "markdown",
   "metadata": {},
   "source": [
    "Dictionary values from the upcoming model:"
   ]
  },
  {
   "cell_type": "code",
   "execution_count": 50,
   "metadata": {},
   "outputs": [
    {
     "data": {
      "text/plain": [
       "{'Covid-19': 0, 'Normal': 1, 'Pneumonia': 2, 'Tuberculosis': 3}"
      ]
     },
     "execution_count": 50,
     "metadata": {},
     "output_type": "execute_result"
    }
   ],
   "source": [
    "train_set.class_indices"
   ]
  },
  {
   "cell_type": "markdown",
   "metadata": {},
   "source": [
    "### Modeling"
   ]
  },
  {
   "cell_type": "code",
   "execution_count": 51,
   "metadata": {},
   "outputs": [
    {
     "name": "stdout",
     "output_type": "stream",
     "text": [
      "Model: \"sequential_14\"\n",
      "_________________________________________________________________\n",
      "Layer (type)                 Output Shape              Param #   \n",
      "=================================================================\n",
      "conv2d_59 (Conv2D)           (None, 222, 222, 32)      896       \n",
      "_________________________________________________________________\n",
      "max_pooling2d_56 (MaxPooling (None, 111, 111, 32)      0         \n",
      "_________________________________________________________________\n",
      "dropout_29 (Dropout)         (None, 111, 111, 32)      0         \n",
      "_________________________________________________________________\n",
      "conv2d_60 (Conv2D)           (None, 109, 109, 64)      18496     \n",
      "_________________________________________________________________\n",
      "max_pooling2d_57 (MaxPooling (None, 54, 54, 64)        0         \n",
      "_________________________________________________________________\n",
      "dropout_30 (Dropout)         (None, 54, 54, 64)        0         \n",
      "_________________________________________________________________\n",
      "conv2d_61 (Conv2D)           (None, 49, 49, 64)        147520    \n",
      "_________________________________________________________________\n",
      "max_pooling2d_58 (MaxPooling (None, 24, 24, 64)        0         \n",
      "_________________________________________________________________\n",
      "dropout_31 (Dropout)         (None, 24, 24, 64)        0         \n",
      "_________________________________________________________________\n",
      "conv2d_62 (Conv2D)           (None, 24, 24, 64)        147520    \n",
      "_________________________________________________________________\n",
      "max_pooling2d_59 (MaxPooling (None, 12, 12, 64)        0         \n",
      "_________________________________________________________________\n",
      "dropout_32 (Dropout)         (None, 12, 12, 64)        0         \n",
      "_________________________________________________________________\n",
      "flatten_14 (Flatten)         (None, 9216)              0         \n",
      "_________________________________________________________________\n",
      "dense_49 (Dense)             (None, 64)                589888    \n",
      "_________________________________________________________________\n",
      "dropout_33 (Dropout)         (None, 64)                0         \n",
      "_________________________________________________________________\n",
      "dense_50 (Dense)             (None, 4)                 260       \n",
      "=================================================================\n",
      "Total params: 904,580\n",
      "Trainable params: 904,580\n",
      "Non-trainable params: 0\n",
      "_________________________________________________________________\n"
     ]
    }
   ],
   "source": [
    "CNN_model = Sequential()\n",
    "\n",
    "CNN_model.add(Conv2D(32,kernel_size=(3,3),activation=\"relu\",input_shape=(224,224,3))) #firstlayer\n",
    "CNN_model.add(layers.MaxPooling2D((2, 2)))\n",
    "CNN_model.add(Dropout(0.25))\n",
    "CNN_model.add(layers.Conv2D(64, (3, 3), activation='relu',input_shape=(64,64,3))) \n",
    "CNN_model.add(layers.MaxPooling2D((2, 2)))\n",
    "CNN_model.add(Dropout(0.25))\n",
    "CNN_model.add(layers.Conv2D(64, (6, 6), activation='relu',input_shape=(64,64,3))) \n",
    "CNN_model.add(layers.MaxPooling2D((2, 2)))\n",
    "CNN_model.add(Dropout(0.25))\n",
    "CNN_model.add(layers.Conv2D(64, (6, 6), activation='relu',padding=\"same\",input_shape=(64,64,3))) \n",
    "CNN_model.add(layers.MaxPooling2D((2, 2)))\n",
    "CNN_model.add(Dropout(0.25))\n",
    "CNN_model.add(layers.Flatten())\n",
    "CNN_model.add(Dense(64,activation=\"relu\"))\n",
    "CNN_model.add(Dropout(0.5))\n",
    "CNN_model.add(Dense(4,activation=\"softmax\"))\n",
    "CNN_model.compile(loss=keras.losses.categorical_crossentropy,optimizer = \"adam\",metrics=[\"accuracy\"])\n",
    "CNN_model.summary()"
   ]
  },
  {
   "cell_type": "code",
   "execution_count": 111,
   "metadata": {},
   "outputs": [
    {
     "name": "stdout",
     "output_type": "stream",
     "text": [
      "Epoch 1/50\n",
      "19/19 [==============================] - 16s 783ms/step - loss: 0.5503 - accuracy: 0.7965 - val_loss: 0.4654 - val_accuracy: 0.8289\n",
      "Epoch 2/50\n",
      "19/19 [==============================] - 15s 751ms/step - loss: 0.4889 - accuracy: 0.8189 - val_loss: 0.6106 - val_accuracy: 0.7500\n",
      "Epoch 3/50\n",
      "19/19 [==============================] - 14s 714ms/step - loss: 0.5890 - accuracy: 0.7821 - val_loss: 0.5135 - val_accuracy: 0.8289\n",
      "Epoch 4/50\n",
      "19/19 [==============================] - 15s 753ms/step - loss: 0.5337 - accuracy: 0.7965 - val_loss: 0.3821 - val_accuracy: 0.8421\n",
      "Epoch 5/50\n",
      "19/19 [==============================] - 14s 737ms/step - loss: 0.4825 - accuracy: 0.8093 - val_loss: 0.3669 - val_accuracy: 0.8289\n",
      "Epoch 6/50\n",
      "19/19 [==============================] - 14s 722ms/step - loss: 0.4626 - accuracy: 0.8462 - val_loss: 0.3848 - val_accuracy: 0.8158\n",
      "Epoch 7/50\n",
      "19/19 [==============================] - 14s 759ms/step - loss: 0.5631 - accuracy: 0.7965 - val_loss: 0.4615 - val_accuracy: 0.8026\n",
      "Epoch 8/50\n",
      "19/19 [==============================] - 14s 728ms/step - loss: 0.4855 - accuracy: 0.8317 - val_loss: 0.3350 - val_accuracy: 0.8947\n",
      "Epoch 9/50\n",
      "19/19 [==============================] - 14s 724ms/step - loss: 0.4806 - accuracy: 0.8253 - val_loss: 0.3317 - val_accuracy: 0.8553\n",
      "Epoch 10/50\n",
      "19/19 [==============================] - 14s 729ms/step - loss: 0.4608 - accuracy: 0.8381 - val_loss: 0.3616 - val_accuracy: 0.8553\n",
      "Epoch 11/50\n",
      "19/19 [==============================] - 14s 725ms/step - loss: 0.4528 - accuracy: 0.8365 - val_loss: 0.3530 - val_accuracy: 0.8684\n",
      "Epoch 12/50\n",
      "19/19 [==============================] - 15s 748ms/step - loss: 0.4690 - accuracy: 0.8237 - val_loss: 0.4064 - val_accuracy: 0.8421\n",
      "Epoch 13/50\n",
      "19/19 [==============================] - 14s 740ms/step - loss: 0.4473 - accuracy: 0.8413 - val_loss: 0.3052 - val_accuracy: 0.8947\n",
      "Epoch 14/50\n",
      "19/19 [==============================] - 14s 714ms/step - loss: 0.4433 - accuracy: 0.8381 - val_loss: 0.3196 - val_accuracy: 0.8947\n",
      "Epoch 15/50\n",
      "19/19 [==============================] - 14s 715ms/step - loss: 0.4648 - accuracy: 0.8349 - val_loss: 0.3426 - val_accuracy: 0.8816\n",
      "Epoch 16/50\n",
      "19/19 [==============================] - 15s 758ms/step - loss: 0.4446 - accuracy: 0.8413 - val_loss: 0.3834 - val_accuracy: 0.8684\n",
      "Epoch 17/50\n",
      "19/19 [==============================] - 15s 743ms/step - loss: 0.4227 - accuracy: 0.8397 - val_loss: 0.2942 - val_accuracy: 0.8684\n",
      "Epoch 18/50\n",
      "19/19 [==============================] - 14s 716ms/step - loss: 0.4116 - accuracy: 0.8686 - val_loss: 0.3079 - val_accuracy: 0.8947\n",
      "Epoch 19/50\n",
      "19/19 [==============================] - 14s 736ms/step - loss: 0.3988 - accuracy: 0.8446 - val_loss: 0.3150 - val_accuracy: 0.8684\n",
      "Epoch 20/50\n",
      "19/19 [==============================] - 14s 726ms/step - loss: 0.4330 - accuracy: 0.8317 - val_loss: 0.3860 - val_accuracy: 0.8947\n",
      "Epoch 21/50\n",
      "19/19 [==============================] - 14s 712ms/step - loss: 0.4013 - accuracy: 0.8510 - val_loss: 0.2779 - val_accuracy: 0.8816\n",
      "Epoch 22/50\n",
      "19/19 [==============================] - 14s 746ms/step - loss: 0.3976 - accuracy: 0.8494 - val_loss: 0.3200 - val_accuracy: 0.8553\n",
      "Epoch 23/50\n",
      "19/19 [==============================] - 14s 729ms/step - loss: 0.3976 - accuracy: 0.8494 - val_loss: 0.3381 - val_accuracy: 0.8553\n",
      "Epoch 24/50\n",
      "19/19 [==============================] - 15s 748ms/step - loss: 0.3733 - accuracy: 0.8670 - val_loss: 0.4213 - val_accuracy: 0.8289\n",
      "Epoch 25/50\n",
      "19/19 [==============================] - 15s 732ms/step - loss: 0.4267 - accuracy: 0.8526 - val_loss: 0.3291 - val_accuracy: 0.8553\n",
      "Epoch 26/50\n",
      "19/19 [==============================] - 15s 762ms/step - loss: 0.4202 - accuracy: 0.8429 - val_loss: 0.3191 - val_accuracy: 0.8553\n",
      "Epoch 27/50\n",
      "19/19 [==============================] - 14s 747ms/step - loss: 0.4400 - accuracy: 0.8526 - val_loss: 0.5218 - val_accuracy: 0.8026\n",
      "Epoch 28/50\n",
      "19/19 [==============================] - 14s 728ms/step - loss: 0.4142 - accuracy: 0.8654 - val_loss: 0.3702 - val_accuracy: 0.8684\n",
      "Epoch 29/50\n",
      "19/19 [==============================] - 14s 734ms/step - loss: 0.4408 - accuracy: 0.8446 - val_loss: 0.3193 - val_accuracy: 0.8816\n",
      "Epoch 30/50\n",
      "19/19 [==============================] - 14s 713ms/step - loss: 0.3817 - accuracy: 0.8702 - val_loss: 0.3493 - val_accuracy: 0.8816\n",
      "Epoch 31/50\n",
      "19/19 [==============================] - 15s 754ms/step - loss: 0.3864 - accuracy: 0.8670 - val_loss: 0.3203 - val_accuracy: 0.8553\n",
      "Epoch 32/50\n",
      "19/19 [==============================] - 14s 732ms/step - loss: 0.4304 - accuracy: 0.8526 - val_loss: 0.3451 - val_accuracy: 0.8816\n",
      "Epoch 33/50\n",
      "19/19 [==============================] - 14s 734ms/step - loss: 0.3809 - accuracy: 0.8558 - val_loss: 0.3316 - val_accuracy: 0.8947\n",
      "Epoch 34/50\n",
      "19/19 [==============================] - 14s 732ms/step - loss: 0.3582 - accuracy: 0.8670 - val_loss: 0.3167 - val_accuracy: 0.8684\n",
      "Epoch 35/50\n",
      "19/19 [==============================] - 14s 703ms/step - loss: 0.3069 - accuracy: 0.8686 - val_loss: 0.2911 - val_accuracy: 0.8816\n",
      "Epoch 36/50\n",
      "19/19 [==============================] - 14s 719ms/step - loss: 0.3218 - accuracy: 0.8718 - val_loss: 0.3194 - val_accuracy: 0.8684\n",
      "Epoch 37/50\n",
      "19/19 [==============================] - 14s 731ms/step - loss: 0.3481 - accuracy: 0.8638 - val_loss: 0.3594 - val_accuracy: 0.8421\n",
      "Epoch 38/50\n",
      "19/19 [==============================] - 14s 710ms/step - loss: 0.3555 - accuracy: 0.8542 - val_loss: 0.3986 - val_accuracy: 0.8684\n",
      "Epoch 39/50\n",
      "19/19 [==============================] - 14s 733ms/step - loss: 0.4169 - accuracy: 0.8526 - val_loss: 0.3259 - val_accuracy: 0.8947\n",
      "Epoch 40/50\n",
      "19/19 [==============================] - 14s 755ms/step - loss: 0.3545 - accuracy: 0.8574 - val_loss: 0.3304 - val_accuracy: 0.8816\n",
      "Epoch 41/50\n",
      "19/19 [==============================] - 14s 726ms/step - loss: 0.3622 - accuracy: 0.8686 - val_loss: 0.2461 - val_accuracy: 0.8947\n",
      "Epoch 42/50\n",
      "19/19 [==============================] - 14s 728ms/step - loss: 0.4359 - accuracy: 0.8478 - val_loss: 0.3181 - val_accuracy: 0.8684\n",
      "Epoch 43/50\n",
      "19/19 [==============================] - 14s 718ms/step - loss: 0.3436 - accuracy: 0.8798 - val_loss: 0.3116 - val_accuracy: 0.8553\n",
      "Epoch 44/50\n",
      "19/19 [==============================] - 14s 739ms/step - loss: 0.2982 - accuracy: 0.8910 - val_loss: 0.3904 - val_accuracy: 0.8684\n",
      "Epoch 45/50\n",
      "19/19 [==============================] - 14s 720ms/step - loss: 0.3788 - accuracy: 0.8542 - val_loss: 0.2953 - val_accuracy: 0.8947\n",
      "Epoch 46/50\n",
      "19/19 [==============================] - 14s 709ms/step - loss: 0.3553 - accuracy: 0.8686 - val_loss: 0.3217 - val_accuracy: 0.8816\n",
      "Epoch 47/50\n",
      "19/19 [==============================] - 14s 724ms/step - loss: 0.3629 - accuracy: 0.8478 - val_loss: 0.3085 - val_accuracy: 0.8816\n",
      "Epoch 48/50\n",
      "19/19 [==============================] - 14s 734ms/step - loss: 0.4037 - accuracy: 0.8526 - val_loss: 0.3148 - val_accuracy: 0.8816\n",
      "Epoch 49/50\n",
      "19/19 [==============================] - 14s 725ms/step - loss: 0.3894 - accuracy: 0.8590 - val_loss: 0.2813 - val_accuracy: 0.8816\n",
      "Epoch 50/50\n",
      "19/19 [==============================] - 14s 733ms/step - loss: 0.3265 - accuracy: 0.8782 - val_loss: 0.3233 - val_accuracy: 0.8816\n"
     ]
    }
   ],
   "source": [
    "epochs = 50\n",
    "batch_size = 32\n",
    "num_of_train_samples = 624 \n",
    "num_of_val_samples = 76\n",
    "\n",
    "CNNmodel = CNN_model.fit_generator(\n",
    "    train_set,\n",
    "    steps_per_epoch = num_of_train_samples / batch_size,\n",
    "    epochs = epochs,\n",
    "    validation_data = val_gen,\n",
    "    validation_steps = num_of_val_samples / batch_size\n",
    ")"
   ]
  },
  {
   "cell_type": "code",
   "execution_count": 112,
   "metadata": {},
   "outputs": [],
   "source": [
    "CNN_model.save('CNN_model_xray.h5')"
   ]
  },
  {
   "cell_type": "code",
   "execution_count": 113,
   "metadata": {},
   "outputs": [
    {
     "name": "stdout",
     "output_type": "stream",
     "text": [
      "3/3 [==============================] - 1s 172ms/step - loss: 0.3304 - accuracy: 0.8571\n",
      "Test loss: 0.3304423391819\n",
      "Test accuracy: 0.8571428656578064\n"
     ]
    }
   ],
   "source": [
    "score = CNN_model.evaluate(test_set, verbose=1)\n",
    "\n",
    "print('Test loss:', score[0])\n",
    "print('Test accuracy:', score[1])"
   ]
  },
  {
   "cell_type": "code",
   "execution_count": 114,
   "metadata": {},
   "outputs": [
    {
     "data": {
      "image/png": "[encoded data removed]",
      "text/plain": [
       "<Figure size 1080x1080 with 2 Axes>"
      ]
     },
     "metadata": {
      "needs_background": "light"
     },
     "output_type": "display_data"
    }
   ],
   "source": [
    "conf_mat=confusion_matrix(y_true=test_set.classes[test_set.index_array], y_pred=np.argmax(CNN_model.predict(test_set), axis=1))\n",
    "\n",
    "plt.figure(figsize = (15,15))\n",
    "x_axis_labels = ['Covid-19', 'Normal', 'Pneumonia', 'Tuberculosis']\n",
    "y_axis_labels =  ['Covid-19', 'Normal', 'Pneumonia', 'Tuberculosis']\n",
    "sns.heatmap(conf_mat,annot=True,cbar=True,cmap=\"viridis\",linewidths=0.7, xticklabels=x_axis_labels,yticklabels=y_axis_labels)\n",
    "plt.title('Confusion Matrix',size = 20)\n",
    "plt.xlabel(\"Predicted Label\", size = 10)\n",
    "plt.ylabel(\"True Label\", size = 10)\n",
    "plt.show()"
   ]
  },
  {
   "cell_type": "code",
   "execution_count": 115,
   "metadata": {},
   "outputs": [],
   "source": [
    "target_names = list(train_set.class_indices.keys())\n",
    "trueClass=test_set.classes[test_set.index_array]\n",
    "predictedClass=np.argmax(CNN_model.predict(test_set), axis=1)"
   ]
  },
  {
   "cell_type": "code",
   "execution_count": 116,
   "metadata": {},
   "outputs": [
    {
     "name": "stdout",
     "output_type": "stream",
     "text": [
      "              precision    recall  f1-score   support\n",
      "\n",
      "    Covid-19       0.78      0.86      0.82        21\n",
      "      Normal       0.87      0.95      0.91        21\n",
      "   Pneumonia       0.95      0.86      0.90        21\n",
      "Tuberculosis       0.84      0.76      0.80        21\n",
      "\n",
      "    accuracy                           0.86        84\n",
      "   macro avg       0.86      0.86      0.86        84\n",
      "weighted avg       0.86      0.86      0.86        84\n",
      "\n"
     ]
    }
   ],
   "source": [
    "print(classification_report(trueClass, predictedClass, target_names=target_names))"
   ]
  },
  {
   "cell_type": "code",
   "execution_count": null,
   "metadata": {},
   "outputs": [],
   "source": []
  }
 ],
 "metadata": {
  "kernelspec": {
   "display_name": "Python (Capstone-NLP)",
   "language": "python",
   "name": "capstone-nlp"
  },
  "language_info": {
   "codemirror_mode": {
    "name": "ipython",
    "version": 3
   },
   "file_extension": ".py",
   "mimetype": "text/x-python",
   "name": "python",
   "nbconvert_exporter": "python",
   "pygments_lexer": "ipython3",
   "version": "3.7.6"
  },
  "toc": {
   "base_numbering": 1,
   "nav_menu": {},
   "number_sections": false,
   "sideBar": true,
   "skip_h1_title": false,
   "title_cell": "Table of Contents",
   "title_sidebar": "Contents",
   "toc_cell": false,
   "toc_position": {
    "height": "calc(100% - 180px)",
    "left": "10px",
    "top": "150px",
    "width": "409.6px"
   },
   "toc_section_display": true,
   "toc_window_display": true
  }
 },
 "nbformat": 4,
 "nbformat_minor": 4
}
