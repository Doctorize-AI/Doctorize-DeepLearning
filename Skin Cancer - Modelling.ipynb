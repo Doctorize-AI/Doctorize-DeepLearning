{
 "cells": [
  {
   "cell_type": "markdown",
   "metadata": {},
   "source": [
    "# Hack Western - Skin Cancer"
   ]
  },
  {
   "cell_type": "code",
   "execution_count": 29,
   "metadata": {},
   "outputs": [],
   "source": [
    "import numpy as np\n",
    "import pandas as pd\n",
    "import os\n",
    "import tensorflow as tf\n",
    "from tensorflow import keras\n",
    "import matplotlib.pyplot as plt\n",
    "import seaborn as sns\n",
    "import string\n",
    "import nltk\n",
    "import warnings\n",
    "warnings.filterwarnings(\"ignore\")\n",
    "import shutil\n",
    "import matplotlib.pyplot as plt\n",
    "%matplotlib inline\n",
    "from tensorflow.keras import layers\n",
    "from keras.callbacks import EarlyStopping\n",
    "import pickle\n",
    "import keras\n",
    "from keras.layers import *\n",
    "from keras.models import *\n",
    "from keras.preprocessing import image\n",
    "from keras.preprocessing.image import load_img\n",
    "from keras.preprocessing.image import img_to_array\n",
    "from keras.preprocessing.image import array_to_img\n",
    "from tensorflow.python.keras.preprocessing.image import ImageDataGenerator\n",
    "from tensorflow.python.keras.preprocessing.image import ImageDataGenerator,array_to_img\n",
    "from keras.models import Sequential\n",
    "from tensorflow.keras.models import Sequential\n",
    "from tensorflow.keras.layers import Conv2D\n",
    "from tensorflow.keras.layers import MaxPooling2D\n",
    "from tensorflow.keras.layers import Dense\n",
    "from tensorflow.keras.layers import Dropout\n",
    "from tensorflow.keras.layers import Flatten\n",
    "from keras.applications.imagenet_utils import preprocess_input, decode_predictions\n",
    "from tensorflow.keras.models import Model, load_model\n",
    "from sklearn.metrics import confusion_matrix\n",
    "from sklearn.metrics import classification_report"
   ]
  },
  {
   "cell_type": "markdown",
   "metadata": {},
   "source": [
    "__Split data into train, test and val__"
   ]
  },
  {
   "cell_type": "code",
   "execution_count": 3,
   "metadata": {},
   "outputs": [
    {
     "name": "stderr",
     "output_type": "stream",
     "text": [
      "Copying files: 3297 files [00:17, 187.25 files/s]\n"
     ]
    }
   ],
   "source": [
    "import splitfolders\n",
    "splitfolders.ratio('Skin cancer/dataset', output=\"Skin cancer/train-test-val_datasets\", seed=123, ratio=(.8, 0.1, 0.1))"
   ]
  },
  {
   "cell_type": "markdown",
   "metadata": {},
   "source": [
    "__Data Augmentation__"
   ]
  },
  {
   "cell_type": "code",
   "execution_count": 5,
   "metadata": {},
   "outputs": [
    {
     "name": "stdout",
     "output_type": "stream",
     "text": [
      "Found 2637 images belonging to 2 classes.\n",
      "Found 329 images belonging to 2 classes.\n",
      "Found 331 images belonging to 2 classes.\n"
     ]
    }
   ],
   "source": [
    "image_dimension = 224\n",
    "batch_size = 32\n",
    "\n",
    "# Creating training, validation, and test image flows\n",
    "train_gen = ImageDataGenerator(rescale = 1/255,\n",
    "                               shear_range = 0.2,\n",
    "                               zoom_range = 0.2,\n",
    "                               width_shift_range= 0.2,\n",
    "                               height_shift_range=0.2,\n",
    "                               rotation_range=0.3,\n",
    "                               horizontal_flip = True)\n",
    "\n",
    "\n",
    "\n",
    "test_gen = ImageDataGenerator(rescale = 1/255)\n",
    "\n",
    "\n",
    "##############################################################################\n",
    "\n",
    "train_set = train_gen.flow_from_directory('Skin cancer/train-test-val_datasets/train',\n",
    "                                          target_size = (image_dimension,image_dimension), \n",
    "                                          batch_size = batch_size,\n",
    "                                          class_mode = 'categorical')\n",
    "\n",
    "\n",
    "val_gen = test_gen.flow_from_directory('Skin cancer/train-test-val_datasets/val',\n",
    "                                      target_size = (image_dimension,image_dimension),\n",
    "                                      batch_size = batch_size,\n",
    "                                      class_mode = 'categorical')\n",
    "\n",
    "\n",
    "\n",
    "test_set = test_gen.flow_from_directory('Skin cancer/train-test-val_datasets/test',\n",
    "                                        target_size = (image_dimension,image_dimension),\n",
    "                                        batch_size = batch_size,\n",
    "                                        class_mode = 'categorical',\n",
    "                                        shuffle=False)"
   ]
  },
  {
   "cell_type": "code",
   "execution_count": 6,
   "metadata": {},
   "outputs": [
    {
     "data": {
      "text/plain": [
       "{'benign': 0, 'malignant': 1}"
      ]
     },
     "execution_count": 6,
     "metadata": {},
     "output_type": "execute_result"
    }
   ],
   "source": [
    "train_set.class_indices"
   ]
  },
  {
   "cell_type": "markdown",
   "metadata": {},
   "source": [
    "### Modeling"
   ]
  },
  {
   "cell_type": "code",
   "execution_count": 19,
   "metadata": {},
   "outputs": [
    {
     "name": "stdout",
     "output_type": "stream",
     "text": [
      "Model: \"sequential_5\"\n",
      "_________________________________________________________________\n",
      "Layer (type)                 Output Shape              Param #   \n",
      "=================================================================\n",
      "conv2d_30 (Conv2D)           (None, 222, 222, 32)      896       \n",
      "_________________________________________________________________\n",
      "max_pooling2d_20 (MaxPooling (None, 111, 111, 32)      0         \n",
      "_________________________________________________________________\n",
      "dropout_25 (Dropout)         (None, 111, 111, 32)      0         \n",
      "_________________________________________________________________\n",
      "conv2d_31 (Conv2D)           (None, 109, 109, 64)      18496     \n",
      "_________________________________________________________________\n",
      "max_pooling2d_21 (MaxPooling (None, 54, 54, 64)        0         \n",
      "_________________________________________________________________\n",
      "dropout_26 (Dropout)         (None, 54, 54, 64)        0         \n",
      "_________________________________________________________________\n",
      "conv2d_32 (Conv2D)           (None, 49, 49, 64)        147520    \n",
      "_________________________________________________________________\n",
      "max_pooling2d_22 (MaxPooling (None, 24, 24, 64)        0         \n",
      "_________________________________________________________________\n",
      "dropout_27 (Dropout)         (None, 24, 24, 64)        0         \n",
      "_________________________________________________________________\n",
      "conv2d_33 (Conv2D)           (None, 24, 24, 64)        147520    \n",
      "_________________________________________________________________\n",
      "max_pooling2d_23 (MaxPooling (None, 12, 12, 64)        0         \n",
      "_________________________________________________________________\n",
      "dropout_28 (Dropout)         (None, 12, 12, 64)        0         \n",
      "_________________________________________________________________\n",
      "flatten_5 (Flatten)          (None, 9216)              0         \n",
      "_________________________________________________________________\n",
      "dense_10 (Dense)             (None, 64)                589888    \n",
      "_________________________________________________________________\n",
      "dropout_29 (Dropout)         (None, 64)                0         \n",
      "_________________________________________________________________\n",
      "dense_11 (Dense)             (None, 2)                 130       \n",
      "=================================================================\n",
      "Total params: 904,450\n",
      "Trainable params: 904,450\n",
      "Non-trainable params: 0\n",
      "_________________________________________________________________\n"
     ]
    }
   ],
   "source": [
    "CNN_model = Sequential()\n",
    "\n",
    "CNN_model.add(Conv2D(32,kernel_size=(3,3),activation=\"relu\",input_shape=(224,224,3))) #firstlayer\n",
    "CNN_model.add(layers.MaxPooling2D((2, 2)))\n",
    "CNN_model.add(Dropout(0.25))\n",
    "CNN_model.add(layers.Conv2D(64, (3, 3), activation='relu',input_shape=(64,64,3)))\n",
    "CNN_model.add(layers.MaxPooling2D((2, 2)))\n",
    "CNN_model.add(Dropout(0.25))\n",
    "CNN_model.add(layers.Conv2D(64, (6, 6), activation='relu',input_shape=(64,64,3))) \n",
    "CNN_model.add(layers.MaxPooling2D((2, 2)))\n",
    "CNN_model.add(Dropout(0.25))\n",
    "CNN_model.add(layers.Conv2D(64, (6, 6), activation='relu',padding=\"same\",input_shape=(64,64,3))) \n",
    "CNN_model.add(layers.MaxPooling2D((2, 2)))\n",
    "CNN_model.add(Dropout(0.25))\n",
    "CNN_model.add(layers.Flatten())\n",
    "CNN_model.add(Dense(64,activation=\"relu\"))\n",
    "CNN_model.add(Dropout(0.5))\n",
    "CNN_model.add(Dense(2,activation=\"softmax\"))\n",
    "CNN_model.compile(loss=keras.losses.categorical_crossentropy,optimizer = \"adam\",metrics=[\"accuracy\"])\n",
    "CNN_model.summary()"
   ]
  },
  {
   "cell_type": "code",
   "execution_count": 32,
   "metadata": {},
   "outputs": [
    {
     "name": "stdout",
     "output_type": "stream",
     "text": [
      "Epoch 1/10\n",
      "82/82 [==============================] - 91s 1s/step - loss: 0.4417 - accuracy: 0.7797 - val_loss: 0.3754 - val_accuracy: 0.8267\n",
      "Epoch 2/10\n",
      "82/82 [==============================] - 90s 1s/step - loss: 0.4171 - accuracy: 0.7888 - val_loss: 0.3777 - val_accuracy: 0.8298\n",
      "Epoch 3/10\n",
      "82/82 [==============================] - 89s 1s/step - loss: 0.4091 - accuracy: 0.7956 - val_loss: 0.4485 - val_accuracy: 0.8024\n",
      "Epoch 4/10\n",
      "82/82 [==============================] - 90s 1s/step - loss: 0.4077 - accuracy: 0.7990 - val_loss: 0.4143 - val_accuracy: 0.8085\n",
      "Epoch 5/10\n",
      "82/82 [==============================] - 95s 1s/step - loss: 0.4274 - accuracy: 0.7933 - val_loss: 0.4524 - val_accuracy: 0.7933\n",
      "Epoch 6/10\n",
      "82/82 [==============================] - 101s 1s/step - loss: 0.4066 - accuracy: 0.8055 - val_loss: 0.4954 - val_accuracy: 0.7386\n",
      "Epoch 7/10\n",
      "82/82 [==============================] - 98s 1s/step - loss: 0.4214 - accuracy: 0.7979 - val_loss: 0.3824 - val_accuracy: 0.8176\n",
      "Epoch 8/10\n",
      "82/82 [==============================] - 94s 1s/step - loss: 0.4013 - accuracy: 0.8119 - val_loss: 0.4037 - val_accuracy: 0.7903\n",
      "Epoch 9/10\n",
      "82/82 [==============================] - 100s 1s/step - loss: 0.3832 - accuracy: 0.8127 - val_loss: 0.4003 - val_accuracy: 0.7964\n",
      "Epoch 10/10\n",
      "82/82 [==============================] - 99s 1s/step - loss: 0.3874 - accuracy: 0.8100 - val_loss: 0.3740 - val_accuracy: 0.8389\n"
     ]
    }
   ],
   "source": [
    "epochs = 10\n",
    "batch_size = 32\n",
    "num_of_train_samples = 2637 \n",
    "num_of_val_samples = 329 \n",
    "\n",
    "CNNmodel = CNN_model.fit_generator(\n",
    "    train_set,\n",
    "    steps_per_epoch = num_of_train_samples / batch_size,\n",
    "    epochs = epochs,\n",
    "    validation_data = val_gen,\n",
    "    validation_steps = num_of_val_samples / batch_size\n",
    ")"
   ]
  },
  {
   "cell_type": "code",
   "execution_count": 33,
   "metadata": {},
   "outputs": [],
   "source": [
    "CNN_model.save('CNN_model_skin.h5')"
   ]
  },
  {
   "cell_type": "code",
   "execution_count": 34,
   "metadata": {},
   "outputs": [
    {
     "name": "stdout",
     "output_type": "stream",
     "text": [
      "11/11 [==============================] - 3s 253ms/step - loss: 0.3944 - accuracy: 0.8127\n",
      "Test loss: 0.39440616965293884\n",
      "Test accuracy: 0.8126888275146484\n"
     ]
    }
   ],
   "source": [
    "score = CNN_model.evaluate(test_set, verbose=1)\n",
    "\n",
    "print('Test loss:', score[0])\n",
    "print('Test accuracy:', score[1])"
   ]
  },
  {
   "cell_type": "code",
   "execution_count": 35,
   "metadata": {},
   "outputs": [
    {
     "data": {
      "image/png": "[encoded data removed]",
      "text/plain": [
       "<Figure size 1080x1080 with 2 Axes>"
      ]
     },
     "metadata": {
      "needs_background": "light"
     },
     "output_type": "display_data"
    }
   ],
   "source": [
    "conf_mat=confusion_matrix(y_true=test_set.classes[test_set.index_array], y_pred=np.argmax(CNN_model.predict(test_set), axis=1))\n",
    "\n",
    "plt.figure(figsize = (15,15))\n",
    "x_axis_labels = ['benign', 'malignant']\n",
    "y_axis_labels =  ['benign', 'malignant']\n",
    "sns.heatmap(conf_mat,annot=True,cbar=True,cmap=\"viridis\",linewidths=0.7, xticklabels=x_axis_labels,yticklabels=y_axis_labels)\n",
    "plt.title('Confusion Matrix',size = 20)\n",
    "plt.xlabel(\"Predicted Label\", size = 10)\n",
    "plt.ylabel(\"True Label\", size = 10)\n",
    "plt.show()"
   ]
  },
  {
   "cell_type": "code",
   "execution_count": 36,
   "metadata": {},
   "outputs": [],
   "source": [
    "target_names = list(train_set.class_indices.keys())\n",
    "trueClass=test_set.classes[test_set.index_array]\n",
    "predictedClass=np.argmax(CNN_model.predict(test_set), axis=1)"
   ]
  },
  {
   "cell_type": "code",
   "execution_count": 37,
   "metadata": {},
   "outputs": [
    {
     "name": "stdout",
     "output_type": "stream",
     "text": [
      "              precision    recall  f1-score   support\n",
      "\n",
      "      benign       0.93      0.71      0.80       180\n",
      "   malignant       0.73      0.94      0.82       151\n",
      "\n",
      "    accuracy                           0.81       331\n",
      "   macro avg       0.83      0.82      0.81       331\n",
      "weighted avg       0.84      0.81      0.81       331\n",
      "\n"
     ]
    }
   ],
   "source": [
    "print(classification_report(trueClass, predictedClass, target_names=target_names))"
   ]
  },
  {
   "cell_type": "code",
   "execution_count": null,
   "metadata": {},
   "outputs": [],
   "source": []
  }
 ],
 "metadata": {
  "kernelspec": {
   "display_name": "Python (Capstone-NLP)",
   "language": "python",
   "name": "capstone-nlp"
  },
  "language_info": {
   "codemirror_mode": {
    "name": "ipython",
    "version": 3
   },
   "file_extension": ".py",
   "mimetype": "text/x-python",
   "name": "python",
   "nbconvert_exporter": "python",
   "pygments_lexer": "ipython3",
   "version": "3.7.6"
  },
  "toc": {
   "base_numbering": 1,
   "nav_menu": {},
   "number_sections": false,
   "sideBar": true,
   "skip_h1_title": false,
   "title_cell": "Table of Contents",
   "title_sidebar": "Contents",
   "toc_cell": false,
   "toc_position": {},
   "toc_section_display": true,
   "toc_window_display": true
  }
 },
 "nbformat": 4,
 "nbformat_minor": 4
}
