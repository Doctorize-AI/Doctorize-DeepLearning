{
 "cells": [
  {
   "cell_type": "markdown",
   "metadata": {},
   "source": [
    "# Hack Western - COVID Cough"
   ]
  },
  {
   "cell_type": "code",
   "execution_count": 68,
   "metadata": {},
   "outputs": [],
   "source": [
    "import numpy as np\n",
    "import pandas as pd\n",
    "import os\n",
    "import csv\n",
    "import tensorflow as tf\n",
    "from tensorflow import keras\n",
    "import matplotlib.pyplot as plt\n",
    "import seaborn as sns\n",
    "import string\n",
    "import nltk\n",
    "import warnings\n",
    "warnings.filterwarnings(\"ignore\")\n",
    "import shutil\n",
    "import matplotlib.pyplot as plt\n",
    "%matplotlib inline\n",
    "from tensorflow.keras import layers\n",
    "from keras.callbacks import EarlyStopping\n",
    "import pickle\n",
    "import keras\n",
    "from keras.layers import *\n",
    "from keras.models import *\n",
    "from keras.preprocessing import image\n",
    "from keras.preprocessing.image import load_img\n",
    "from keras.preprocessing.image import img_to_array\n",
    "from keras.preprocessing.image import array_to_img\n",
    "from tensorflow.python.keras.preprocessing.image import ImageDataGenerator\n",
    "from tensorflow.python.keras.preprocessing.image import ImageDataGenerator,array_to_img\n",
    "from keras.models import Sequential\n",
    "from tensorflow.keras.models import Sequential\n",
    "from tensorflow.keras.layers import Conv2D\n",
    "from tensorflow.keras.layers import MaxPooling2D\n",
    "from tensorflow.keras.layers import Dense\n",
    "from tensorflow.keras.layers import Dropout\n",
    "from tensorflow.keras.layers import Flatten\n",
    "from keras.applications.imagenet_utils import preprocess_input, decode_predictions\n",
    "from tensorflow.keras.models import Model, load_model\n",
    "from sklearn.metrics import confusion_matrix\n",
    "from sklearn.metrics import classification_report\n",
    "from sklearn.model_selection import train_test_split\n",
    "from sklearn.preprocessing import LabelEncoder, StandardScaler\n",
    "from sklearn.metrics import plot_confusion_matrix, confusion_matrix, accuracy_score, classification_report\n",
    "from sklearn.metrics import confusion_matrix, ConfusionMatrixDisplay\n",
    "import librosa\n",
    "import librosa.display\n",
    "\n",
    "from keras import models\n",
    "from keras import layers\n"
   ]
  },
  {
   "cell_type": "markdown",
   "metadata": {},
   "source": [
    "__Make columns for dataset__"
   ]
  },
  {
   "cell_type": "code",
   "execution_count": 69,
   "metadata": {},
   "outputs": [],
   "source": [
    "header = 'filename chroma_stft rmse spectral_centroid spectral_bandwidth rolloff zero_crossing_rate'\n",
    "for i in range(1, 21):\n",
    "    header += f' mfcc{i}'\n",
    "header += ' label'\n",
    "header = header.split()"
   ]
  },
  {
   "cell_type": "markdown",
   "metadata": {},
   "source": [
    "__Make empty CSV__"
   ]
  },
  {
   "cell_type": "code",
   "execution_count": 70,
   "metadata": {},
   "outputs": [],
   "source": [
    "with open('data_extended.csv', mode='w', newline='') as f:\n",
    "    csv_writer = csv.writer(f, delimiter=',', quotechar='\"', quoting=csv.QUOTE_MINIMAL)\n",
    "    csv_writer.writerow(header)"
   ]
  },
  {
   "cell_type": "code",
   "execution_count": null,
   "metadata": {},
   "outputs": [],
   "source": [
    "dataset = pd.read_csv(\"s3://isfan-bstn-1/dataset/archive/cough_trial_extended.csv\")"
   ]
  },
  {
   "cell_type": "markdown",
   "metadata": {},
   "source": [
    "__From Archive folder (Kaggle #1)__"
   ]
  },
  {
   "cell_type": "code",
   "execution_count": null,
   "metadata": {},
   "outputs": [],
   "source": [
    "tot_rows = dataset.shape[0]\n",
    "for i in range(tot_rows):\n",
    "        source = dataset['file_properties'][i]\n",
    "        class_name = dataset['class'][i]\n",
    "        file_name = 'dataset/archive/trial_covid/'+source\n",
    "        if os.path.exists(file_name):\n",
    "            y,sr = librosa.load(file_name, mono=True, duration=5)\n",
    "            chroma_stft = librosa.feature.chroma_stft(y=y, sr=sr)\n",
    "            rmse = librosa.feature.rms(y=y)\n",
    "            spec_cent = librosa.feature.spectral_centroid(y=y, sr=sr)\n",
    "            spec_bw = librosa.feature.spectral_bandwidth(y=y, sr=sr)\n",
    "            rolloff = librosa.feature.spectral_rolloff(y=y, sr=sr)\n",
    "            zcr = librosa.feature.zero_crossing_rate(y)\n",
    "            mfcc = librosa.feature.mfcc(y=y, sr=sr)\n",
    "            df_row = list(np.array([source, np.mean(chroma_stft),np.mean(rmse), np.mean(spec_cent),  np.mean(spec_bw), np.mean(rolloff) , np.mean(zcr)])) + list(np.array([[np.mean(e)] for e in mfcc]).flatten()) + list(np.array([class_name]))\n",
    "\n",
    "            #Export to CSV\n",
    "            with open('data_extended.csv', mode='a', newline='') as f:\n",
    "                csv_writer = csv.writer(f, delimiter=',', quotechar='\"', quoting=csv.QUOTE_MINIMAL)\n",
    "                csv_writer.writerow(df_row)\n"
   ]
  },
  {
   "cell_type": "markdown",
   "metadata": {},
   "source": [
    "__From virufy-data-main folder__"
   ]
  },
  {
   "cell_type": "code",
   "execution_count": null,
   "metadata": {},
   "outputs": [],
   "source": [
    "dir = \"s3://isfan-bstn-1/dataset/virufy-data-main/virufy-data-main/clinical/original\""
   ]
  },
  {
   "cell_type": "code",
   "execution_count": null,
   "metadata": {},
   "outputs": [],
   "source": [
    "for col in enumerate(os.listdir(dir)):\n",
    "    for file in range(len([f for f in os.listdir(dir + '/' + col[1])if os.path.isfile(os.path.join(dir + '/' + col[1], f))])):\n",
    "        filename = dir + '/' + col[1] + '/' + os.listdir(dir + '/' + col[1])[file]\n",
    "        print(os.listdir(dir + '/' + col[1])[file])\n",
    "        source = os.listdir(dir + '/' + col[1])[file]\n",
    "        class_name = col[1]\n",
    "        file= os.path.splitext(os.listdir(dir + '/' + col[1])[file])[0]\n",
    "        if filename.endswith(\"*.mp3\"):\n",
    "            sound = AudioSegment.from_mp3(filename)\n",
    "            sound.export(os.path.splitext(filename)[0]+'.wav', format=\"wav\")\n",
    "            chroma_stft = librosa.feature.chroma_stft(y=y, sr=sr)\n",
    "            rmse = librosa.feature.rms(y=y)\n",
    "            spec_cent = librosa.feature.spectral_centroid(y=y, sr=sr)\n",
    "            spec_bw = librosa.feature.spectral_bandwidth(y=y, sr=sr)\n",
    "            rolloff = librosa.feature.spectral_rolloff(y=y, sr=sr)\n",
    "            zcr = librosa.feature.zero_crossing_rate(y)\n",
    "            mfcc = librosa.feature.mfcc(y=y, sr=sr)\n",
    "            df_row = list(np.array([source, np.mean(chroma_stft),np.mean(rmse), np.mean(spec_cent),  np.mean(spec_bw), np.mean(rolloff) , np.mean(zcr)])) + list(np.array([[np.mean(e)] for e in mfcc]).flatten()) + list(np.array([class_name]))\n",
    "\n",
    "            #Export to CSV\n",
    "            with open('data_extended.csv', mode='a', newline='') as f:\n",
    "                csv_writer = csv.writer(f, delimiter=',', quotechar='\"', quoting=csv.QUOTE_MINIMAL)\n",
    "                csv_writer.writerow(df_row)\n",
    "            \n",
    "        else:\n",
    "            y,sr = librosa.load(filename, mono=True, duration=5)\n",
    "            chroma_stft = librosa.feature.chroma_stft(y=y, sr=sr)\n",
    "            rmse = librosa.feature.rms(y=y)\n",
    "            spec_cent = librosa.feature.spectral_centroid(y=y, sr=sr)\n",
    "            spec_bw = librosa.feature.spectral_bandwidth(y=y, sr=sr)\n",
    "            rolloff = librosa.feature.spectral_rolloff(y=y, sr=sr)\n",
    "            zcr = librosa.feature.zero_crossing_rate(y)\n",
    "            mfcc = librosa.feature.mfcc(y=y, sr=sr)\n",
    "            df_row = list(np.array([source, np.mean(chroma_stft),np.mean(rmse), np.mean(spec_cent),  np.mean(spec_bw), np.mean(rolloff) , np.mean(zcr)])) + list(np.array([[np.mean(e)] for e in mfcc]).flatten()) + list(np.array([class_name]))\n",
    "\n",
    "            #Export to CSV\n",
    "            with open('data_extended.csv', mode='a', newline='') as f:\n",
    "                csv_writer = csv.writer(f, delimiter=',', quotechar='\"', quoting=csv.QUOTE_MINIMAL)\n",
    "                csv_writer.writerow(df_row)\n",
    "        "
   ]
  },
  {
   "cell_type": "markdown",
   "metadata": {},
   "source": [
    "__From archive2 folder (Kaggle2)__"
   ]
  },
  {
   "cell_type": "code",
   "execution_count": null,
   "metadata": {},
   "outputs": [],
   "source": [
    "dataset2 = pd.read_csv(\"s3://isfan-bstn-1/dataset/archive2/metadata_compiled.csv\")"
   ]
  },
  {
   "cell_type": "code",
   "execution_count": null,
   "metadata": {},
   "outputs": [],
   "source": [
    "dataset2 = dataset2[['uuid','status']]"
   ]
  },
  {
   "cell_type": "code",
   "execution_count": null,
   "metadata": {},
   "outputs": [],
   "source": [
    "dataset2['status'].unique()"
   ]
  },
  {
   "cell_type": "code",
   "execution_count": null,
   "metadata": {},
   "outputs": [],
   "source": [
    "dataset2 = dataset2[(dataset2[\"status\"] == 'COVID-19') | (dataset2[\"status\"] == 'healthy')]"
   ]
  },
  {
   "cell_type": "code",
   "execution_count": null,
   "metadata": {},
   "outputs": [],
   "source": [
    "dataset2['status'].value_counts()"
   ]
  },
  {
   "cell_type": "code",
   "execution_count": null,
   "metadata": {},
   "outputs": [],
   "source": [
    "dataset2_covid = dataset2[(dataset2[\"status\"] == 'COVID-19')].sample(1155)\n",
    "dataset2_healthy = dataset2[(dataset2[\"status\"] == 'healthy')].sample(1000)\n",
    "dataset2 = dataset2_covid.append(dataset2_healthy)"
   ]
  },
  {
   "cell_type": "code",
   "execution_count": null,
   "metadata": {},
   "outputs": [],
   "source": [
    "dataset2 = dataset2.reset_index(drop=True)"
   ]
  },
  {
   "cell_type": "code",
   "execution_count": null,
   "metadata": {},
   "outputs": [],
   "source": [
    "tot_rows = dataset2.shape[0]\n",
    "for i in range(tot_rows):\n",
    "    source = dataset2['uuid'][i]\n",
    "    filename = 'dataset/archive2/'+source+'.webm'\n",
    "    if os.path.exists(filename):\n",
    "        print(i)\n",
    "        print(filename)\n",
    "        class_name = dataset2['status'][i]\n",
    "        y,sr = librosa.load(filename, mono=True, duration=5)\n",
    "        chroma_stft = librosa.feature.chroma_stft(y=y, sr=sr)\n",
    "        rmse = librosa.feature.rms(y=y)\n",
    "        spec_cent = librosa.feature.spectral_centroid(y=y, sr=sr)\n",
    "        spec_bw = librosa.feature.spectral_bandwidth(y=y, sr=sr)\n",
    "        rolloff = librosa.feature.spectral_rolloff(y=y, sr=sr)\n",
    "        zcr = librosa.feature.zero_crossing_rate(y)\n",
    "        mfcc = librosa.feature.mfcc(y=y, sr=sr)\n",
    "        df_row = list(np.array([source, np.mean(chroma_stft),np.mean(rmse), np.mean(spec_cent),  np.mean(spec_bw), np.mean(rolloff) , np.mean(zcr)])) + list(np.array([[np.mean(e)] for e in mfcc]).flatten()) + list(np.array([class_name]))\n",
    "\n",
    "        #Export to CSV\n",
    "        with open('data_extended.csv', mode='a', newline='') as f:\n",
    "            csv_writer = csv.writer(f, delimiter=',', quotechar='\"', quoting=csv.QUOTE_MINIMAL)\n",
    "            csv_writer.writerow(df_row)\n",
    "    else:\n",
    "        print('fail')\n",
    "        \n"
   ]
  },
  {
   "cell_type": "markdown",
   "metadata": {},
   "source": [
    "---"
   ]
  },
  {
   "cell_type": "code",
   "execution_count": 48,
   "metadata": {},
   "outputs": [],
   "source": [
    "dataframe = pd.read_csv('data_extended.csv')"
   ]
  },
  {
   "cell_type": "code",
   "execution_count": 49,
   "metadata": {},
   "outputs": [],
   "source": [
    "dataframe = dataframe.drop(['filename'],axis=1)"
   ]
  },
  {
   "cell_type": "code",
   "execution_count": null,
   "metadata": {},
   "outputs": [],
   "source": [
    "dataframe['label'].unique()"
   ]
  },
  {
   "cell_type": "code",
   "execution_count": 17,
   "metadata": {},
   "outputs": [],
   "source": [
    "dataframe.loc[dataframe['label'] == 'COVID-19', 'label']  = 'covid'"
   ]
  },
  {
   "cell_type": "code",
   "execution_count": null,
   "metadata": {},
   "outputs": [],
   "source": [
    "dataframe.loc[dataframe['label'] == 'healthy', 'label']  = 'not_covid'"
   ]
  },
  {
   "cell_type": "code",
   "execution_count": null,
   "metadata": {},
   "outputs": [],
   "source": [
    "dataframe.loc[dataframe['label'] == 'covid', 'label']  = '1'\n",
    "dataframe.loc[dataframe['label'] == 'not_covid', 'label']  = '0'"
   ]
  },
  {
   "cell_type": "code",
   "execution_count": null,
   "metadata": {},
   "outputs": [],
   "source": [
    "dataframe.rename({'label': 'COVID'}, axis=1, inplace=True)"
   ]
  },
  {
   "cell_type": "markdown",
   "metadata": {},
   "source": [
    "---"
   ]
  },
  {
   "cell_type": "code",
   "execution_count": 53,
   "metadata": {},
   "outputs": [],
   "source": [
    "y = dataframe['COVID']"
   ]
  },
  {
   "cell_type": "code",
   "execution_count": 54,
   "metadata": {},
   "outputs": [],
   "source": [
    "scaler = StandardScaler()\n",
    "X = scaler.fit_transform(np.array(dataframe.iloc[:, :-1], dtype = float))"
   ]
  },
  {
   "cell_type": "code",
   "execution_count": 55,
   "metadata": {},
   "outputs": [],
   "source": [
    "X_train, X_test, y_train, y_test  = train_test_split(X, y, test_size=0.2, random_state=1)"
   ]
  },
  {
   "cell_type": "markdown",
   "metadata": {},
   "source": [
    "__MODELING__"
   ]
  },
  {
   "cell_type": "code",
   "execution_count": 56,
   "metadata": {},
   "outputs": [],
   "source": [
    "from sklearn.pipeline import make_pipeline \n",
    "\n",
    "from sklearn.linear_model import LogisticRegression, RidgeClassifier\n",
    "from sklearn.ensemble import RandomForestClassifier, GradientBoostingClassifier\n",
    "from sklearn.naive_bayes import MultinomialNB\n",
    "from sklearn.svm import SVC\n",
    "from xgboost import XGBClassifier\n",
    "pipelines = {\n",
    "    'lr':make_pipeline(LogisticRegression()),\n",
    "    'rc':make_pipeline(RidgeClassifier()),\n",
    "    'svc':make_pipeline(SVC()),\n",
    "    'xgb':make_pipeline( XGBClassifier()),\n",
    "    'rf':make_pipeline(RandomForestClassifier()),\n",
    "    'gb':make_pipeline(GradientBoostingClassifier())\n",
    "}"
   ]
  },
  {
   "cell_type": "code",
   "execution_count": 57,
   "metadata": {},
   "outputs": [
    {
     "name": "stdout",
     "output_type": "stream",
     "text": [
      "[06:47:16] WARNING: ..\\src\\learner.cc:1095: Starting in XGBoost 1.3.0, the default evaluation metric used with the objective 'binary:logistic' was changed from 'error' to 'logloss'. Explicitly set eval_metric if you'd like to restore the old behavior.\n"
     ]
    }
   ],
   "source": [
    "fit_models = {}\n",
    "for algo, pipeline in pipelines.items():\n",
    "    model = pipeline.fit(X_train, y_train)\n",
    "    fit_models[algo] = model"
   ]
  },
  {
   "cell_type": "code",
   "execution_count": null,
   "metadata": {},
   "outputs": [],
   "source": []
  },
  {
   "cell_type": "code",
   "execution_count": 58,
   "metadata": {},
   "outputs": [
    {
     "data": {
      "text/plain": [
       "{'lr': Pipeline(memory=None,\n",
       "          steps=[('logisticregression',\n",
       "                  LogisticRegression(C=1.0, class_weight=None, dual=False,\n",
       "                                     fit_intercept=True, intercept_scaling=1,\n",
       "                                     l1_ratio=None, max_iter=100,\n",
       "                                     multi_class='auto', n_jobs=None,\n",
       "                                     penalty='l2', random_state=None,\n",
       "                                     solver='lbfgs', tol=0.0001, verbose=0,\n",
       "                                     warm_start=False))],\n",
       "          verbose=False),\n",
       " 'rc': Pipeline(memory=None,\n",
       "          steps=[('ridgeclassifier',\n",
       "                  RidgeClassifier(alpha=1.0, class_weight=None, copy_X=True,\n",
       "                                  fit_intercept=True, max_iter=None,\n",
       "                                  normalize=False, random_state=None,\n",
       "                                  solver='auto', tol=0.001))],\n",
       "          verbose=False),\n",
       " 'svc': Pipeline(memory=None,\n",
       "          steps=[('svc',\n",
       "                  SVC(C=1.0, break_ties=False, cache_size=200, class_weight=None,\n",
       "                      coef0=0.0, decision_function_shape='ovr', degree=3,\n",
       "                      gamma='scale', kernel='rbf', max_iter=-1,\n",
       "                      probability=False, random_state=None, shrinking=True,\n",
       "                      tol=0.001, verbose=False))],\n",
       "          verbose=False),\n",
       " 'xgb': Pipeline(memory=None,\n",
       "          steps=[('xgbclassifier',\n",
       "                  XGBClassifier(base_score=0.5, booster='gbtree',\n",
       "                                colsample_bylevel=1, colsample_bynode=1,\n",
       "                                colsample_bytree=1, gamma=0, gpu_id=-1,\n",
       "                                importance_type='gain',\n",
       "                                interaction_constraints='',\n",
       "                                learning_rate=0.300000012, max_delta_step=0,\n",
       "                                max_depth=6, min_child_weight=1, missing=nan,\n",
       "                                monotone_constraints='()', n_estimators=100,\n",
       "                                n_jobs=8, num_parallel_tree=1,\n",
       "                                objective='binary:logistic', random_state=0,\n",
       "                                reg_alpha=0, reg_lambda=1, scale_pos_weight=1,\n",
       "                                subsample=1, tree_method='exact',\n",
       "                                use_label_encoder=True, validate_parameters=1,\n",
       "                                verbosity=None))],\n",
       "          verbose=False),\n",
       " 'rf': Pipeline(memory=None,\n",
       "          steps=[('randomforestclassifier',\n",
       "                  RandomForestClassifier(bootstrap=True, ccp_alpha=0.0,\n",
       "                                         class_weight=None, criterion='gini',\n",
       "                                         max_depth=None, max_features='auto',\n",
       "                                         max_leaf_nodes=None, max_samples=None,\n",
       "                                         min_impurity_decrease=0.0,\n",
       "                                         min_impurity_split=None,\n",
       "                                         min_samples_leaf=1, min_samples_split=2,\n",
       "                                         min_weight_fraction_leaf=0.0,\n",
       "                                         n_estimators=100, n_jobs=None,\n",
       "                                         oob_score=False, random_state=None,\n",
       "                                         verbose=0, warm_start=False))],\n",
       "          verbose=False),\n",
       " 'gb': Pipeline(memory=None,\n",
       "          steps=[('gradientboostingclassifier',\n",
       "                  GradientBoostingClassifier(ccp_alpha=0.0,\n",
       "                                             criterion='friedman_mse', init=None,\n",
       "                                             learning_rate=0.1, loss='deviance',\n",
       "                                             max_depth=3, max_features=None,\n",
       "                                             max_leaf_nodes=None,\n",
       "                                             min_impurity_decrease=0.0,\n",
       "                                             min_impurity_split=None,\n",
       "                                             min_samples_leaf=1,\n",
       "                                             min_samples_split=2,\n",
       "                                             min_weight_fraction_leaf=0.0,\n",
       "                                             n_estimators=100,\n",
       "                                             n_iter_no_change=None,\n",
       "                                             presort='deprecated',\n",
       "                                             random_state=None, subsample=1.0,\n",
       "                                             tol=0.0001, validation_fraction=0.1,\n",
       "                                             verbose=0, warm_start=False))],\n",
       "          verbose=False)}"
      ]
     },
     "execution_count": 58,
     "metadata": {},
     "output_type": "execute_result"
    }
   ],
   "source": [
    "fit_models"
   ]
  },
  {
   "cell_type": "code",
   "execution_count": 59,
   "metadata": {},
   "outputs": [],
   "source": [
    "#making a function that did everything above\n",
    "def fit_predict(model,X_test, y_test):\n",
    "    y_pred=model.predict(X_test)\n",
    "    print(\"Model name: \" + type(model.steps[0][0]).__name__ )\n",
    "    print(\"Accuracy score: {}\".format(accuracy_score(y_test, y_pred)))\n",
    "    print(\"classification report\\n\")\n",
    "    print(classification_report(y_test,y_pred))\n",
    "    print(\"\\n\")\n",
    "    ConfusionMatrixDisplay(confusion_matrix(y_test,y_pred), display_labels=fit_models['gb'].classes_).plot(cmap='viridis')\n",
    "    #plt.title(f'Confusion matrix of {model} model on test data')\n",
    "    plt.show()"
   ]
  },
  {
   "cell_type": "code",
   "execution_count": 60,
   "metadata": {},
   "outputs": [
    {
     "name": "stdout",
     "output_type": "stream",
     "text": [
      "Model name: str\n",
      "Accuracy score: 0.5631067961165048\n",
      "classification report\n",
      "\n",
      "              precision    recall  f1-score   support\n",
      "\n",
      "           0       0.51      0.48      0.49       185\n",
      "           1       0.60      0.63      0.62       227\n",
      "\n",
      "    accuracy                           0.56       412\n",
      "   macro avg       0.56      0.56      0.55       412\n",
      "weighted avg       0.56      0.56      0.56       412\n",
      "\n",
      "\n",
      "\n"
     ]
    },
    {
     "data": {
      "image/png": "[encoded data removed]",
      "text/plain": [
       "<Figure size 432x288 with 2 Axes>"
      ]
     },
     "metadata": {
      "needs_background": "light"
     },
     "output_type": "display_data"
    }
   ],
   "source": [
    "fit_predict(fit_models['xgb'], X_test, y_test)"
   ]
  },
  {
   "cell_type": "code",
   "execution_count": 62,
   "metadata": {},
   "outputs": [
    {
     "name": "stdout",
     "output_type": "stream",
     "text": [
      "Model: \"sequential_1\"\n",
      "_________________________________________________________________\n",
      "Layer (type)                 Output Shape              Param #   \n",
      "=================================================================\n",
      "dense_6 (Dense)              (None, 512)               13824     \n",
      "_________________________________________________________________\n",
      "dense_7 (Dense)              (None, 256)               131328    \n",
      "_________________________________________________________________\n",
      "dropout_2 (Dropout)          (None, 256)               0         \n",
      "_________________________________________________________________\n",
      "dense_8 (Dense)              (None, 128)               32896     \n",
      "_________________________________________________________________\n",
      "dense_9 (Dense)              (None, 64)                8256      \n",
      "_________________________________________________________________\n",
      "dropout_3 (Dropout)          (None, 64)                0         \n",
      "_________________________________________________________________\n",
      "dense_10 (Dense)             (None, 10)                650       \n",
      "_________________________________________________________________\n",
      "dense_11 (Dense)             (None, 2)                 22        \n",
      "=================================================================\n",
      "Total params: 186,976\n",
      "Trainable params: 186,976\n",
      "Non-trainable params: 0\n",
      "_________________________________________________________________\n"
     ]
    }
   ],
   "source": [
    "model = models.Sequential()\n",
    "model.add(layers.Dense(512, activation='relu', input_shape=(X_train.shape[1],))) \n",
    "\n",
    "model.add(layers.Dense(256, activation='relu'))\n",
    "\n",
    "model.add(Dropout(0.2))\n",
    "\n",
    "model.add(layers.Dense(128, activation='relu'))\n",
    "\n",
    "model.add(layers.Dense(64, activation='relu'))\n",
    "\n",
    "model.add(Dropout(0.2))\n",
    "\n",
    "model.add(layers.Dense(10, activation='relu'))\n",
    "\n",
    "model.add(layers.Dense(2, activation='softmax'))\n",
    "    \n",
    "model.compile(optimizer= tf.keras.optimizers.Adam(learning_rate=0.001),\n",
    "              loss='sparse_categorical_crossentropy',\n",
    "              metrics=['accuracy'])\n",
    "    \n",
    "\n",
    "\n",
    "model.summary()"
   ]
  },
  {
   "cell_type": "code",
   "execution_count": 63,
   "metadata": {},
   "outputs": [
    {
     "name": "stdout",
     "output_type": "stream",
     "text": [
      "Epoch 1/100\n",
      "103/103 [==============================] - 2s 6ms/step - loss: 0.6962 - accuracy: 0.5292\n",
      "Epoch 2/100\n",
      "103/103 [==============================] - 1s 6ms/step - loss: 0.6773 - accuracy: 0.5662\n",
      "Epoch 3/100\n",
      "103/103 [==============================] - 1s 6ms/step - loss: 0.6727 - accuracy: 0.5899\n",
      "Epoch 4/100\n",
      "103/103 [==============================] - 1s 7ms/step - loss: 0.6622 - accuracy: 0.5972\n",
      "Epoch 5/100\n",
      "103/103 [==============================] - 1s 5ms/step - loss: 0.6475 - accuracy: 0.6203\n",
      "Epoch 6/100\n",
      "103/103 [==============================] - 1s 5ms/step - loss: 0.6498 - accuracy: 0.6221\n",
      "Epoch 7/100\n",
      "103/103 [==============================] - 1s 5ms/step - loss: 0.6346 - accuracy: 0.6258\n",
      "Epoch 8/100\n",
      "103/103 [==============================] - 0s 5ms/step - loss: 0.6186 - accuracy: 0.6482\n",
      "Epoch 9/100\n",
      "103/103 [==============================] - 1s 5ms/step - loss: 0.6150 - accuracy: 0.6549\n",
      "Epoch 10/100\n",
      "103/103 [==============================] - 1s 5ms/step - loss: 0.5908 - accuracy: 0.6750\n",
      "Epoch 11/100\n",
      "103/103 [==============================] - 1s 6ms/step - loss: 0.5691 - accuracy: 0.6932\n",
      "Epoch 12/100\n",
      "103/103 [==============================] - 0s 5ms/step - loss: 0.5482 - accuracy: 0.7126\n",
      "Epoch 13/100\n",
      "103/103 [==============================] - 1s 5ms/step - loss: 0.5342 - accuracy: 0.7181\n",
      "Epoch 14/100\n",
      "103/103 [==============================] - 0s 4ms/step - loss: 0.5047 - accuracy: 0.7388\n",
      "Epoch 15/100\n",
      "103/103 [==============================] - 1s 5ms/step - loss: 0.4717 - accuracy: 0.7533\n",
      "Epoch 16/100\n",
      "103/103 [==============================] - 1s 5ms/step - loss: 0.4362 - accuracy: 0.7831\n",
      "Epoch 17/100\n",
      "103/103 [==============================] - 1s 5ms/step - loss: 0.4240 - accuracy: 0.7855\n",
      "Epoch 18/100\n",
      "103/103 [==============================] - 1s 5ms/step - loss: 0.3765 - accuracy: 0.8183: 0s - loss: 0.3714 \n",
      "Epoch 19/100\n",
      "103/103 [==============================] - 1s 5ms/step - loss: 0.3578 - accuracy: 0.8360\n",
      "Epoch 20/100\n",
      "103/103 [==============================] - 1s 5ms/step - loss: 0.3620 - accuracy: 0.8354\n",
      "Epoch 21/100\n",
      "103/103 [==============================] - 1s 5ms/step - loss: 0.3083 - accuracy: 0.8591\n",
      "Epoch 22/100\n",
      "103/103 [==============================] - 1s 6ms/step - loss: 0.2693 - accuracy: 0.8724\n",
      "Epoch 23/100\n",
      "103/103 [==============================] - 1s 5ms/step - loss: 0.2988 - accuracy: 0.8694\n",
      "Epoch 24/100\n",
      "103/103 [==============================] - 1s 5ms/step - loss: 0.2655 - accuracy: 0.8785\n",
      "Epoch 25/100\n",
      "103/103 [==============================] - 1s 5ms/step - loss: 0.2299 - accuracy: 0.8937\n",
      "Epoch 26/100\n",
      "103/103 [==============================] - 1s 6ms/step - loss: 0.2561 - accuracy: 0.8925\n",
      "Epoch 27/100\n",
      "103/103 [==============================] - 1s 6ms/step - loss: 0.2222 - accuracy: 0.8973\n",
      "Epoch 28/100\n",
      "103/103 [==============================] - 1s 5ms/step - loss: 0.2070 - accuracy: 0.9125\n",
      "Epoch 29/100\n",
      "103/103 [==============================] - 1s 6ms/step - loss: 0.1945 - accuracy: 0.9052\n",
      "Epoch 30/100\n",
      "103/103 [==============================] - 1s 5ms/step - loss: 0.1780 - accuracy: 0.9149\n",
      "Epoch 31/100\n",
      "103/103 [==============================] - 1s 6ms/step - loss: 0.1977 - accuracy: 0.9235\n",
      "Epoch 32/100\n",
      "103/103 [==============================] - 1s 6ms/step - loss: 0.1456 - accuracy: 0.9301\n",
      "Epoch 33/100\n",
      "103/103 [==============================] - 1s 6ms/step - loss: 0.2008 - accuracy: 0.9119\n",
      "Epoch 34/100\n",
      "103/103 [==============================] - 1s 6ms/step - loss: 0.1606 - accuracy: 0.9247\n",
      "Epoch 35/100\n",
      "103/103 [==============================] - 1s 6ms/step - loss: 0.1456 - accuracy: 0.9478\n",
      "Epoch 36/100\n",
      "103/103 [==============================] - 1s 6ms/step - loss: 0.1486 - accuracy: 0.9283\n",
      "Epoch 37/100\n",
      "103/103 [==============================] - 1s 5ms/step - loss: 0.1166 - accuracy: 0.9471\n",
      "Epoch 38/100\n",
      "103/103 [==============================] - 1s 5ms/step - loss: 0.1454 - accuracy: 0.9380\n",
      "Epoch 39/100\n",
      "103/103 [==============================] - 1s 5ms/step - loss: 0.1309 - accuracy: 0.9447\n",
      "Epoch 40/100\n",
      "103/103 [==============================] - 1s 5ms/step - loss: 0.1429 - accuracy: 0.9392\n",
      "Epoch 41/100\n",
      "103/103 [==============================] - 1s 5ms/step - loss: 0.1289 - accuracy: 0.9471\n",
      "Epoch 42/100\n",
      "103/103 [==============================] - 1s 6ms/step - loss: 0.1334 - accuracy: 0.9417\n",
      "Epoch 43/100\n",
      "103/103 [==============================] - 1s 5ms/step - loss: 0.1186 - accuracy: 0.9465\n",
      "Epoch 44/100\n",
      "103/103 [==============================] - 1s 5ms/step - loss: 0.0994 - accuracy: 0.9532\n",
      "Epoch 45/100\n",
      "103/103 [==============================] - 1s 6ms/step - loss: 0.0937 - accuracy: 0.9569\n",
      "Epoch 46/100\n",
      "103/103 [==============================] - 1s 6ms/step - loss: 0.1271 - accuracy: 0.9478\n",
      "Epoch 47/100\n",
      "103/103 [==============================] - 1s 6ms/step - loss: 0.1287 - accuracy: 0.9453\n",
      "Epoch 48/100\n",
      "103/103 [==============================] - 1s 6ms/step - loss: 0.1122 - accuracy: 0.9502\n",
      "Epoch 49/100\n",
      "103/103 [==============================] - 1s 6ms/step - loss: 0.1096 - accuracy: 0.9538\n",
      "Epoch 50/100\n",
      "103/103 [==============================] - 1s 6ms/step - loss: 0.1334 - accuracy: 0.9465\n",
      "Epoch 51/100\n",
      "103/103 [==============================] - 1s 6ms/step - loss: 0.1254 - accuracy: 0.9429\n",
      "Epoch 52/100\n",
      "103/103 [==============================] - 1s 5ms/step - loss: 0.0851 - accuracy: 0.9581\n",
      "Epoch 53/100\n",
      "103/103 [==============================] - 1s 6ms/step - loss: 0.0771 - accuracy: 0.9696\n",
      "Epoch 54/100\n",
      "103/103 [==============================] - 1s 6ms/step - loss: 0.0757 - accuracy: 0.9648\n",
      "Epoch 55/100\n",
      "103/103 [==============================] - 1s 5ms/step - loss: 0.1027 - accuracy: 0.9617\n",
      "Epoch 56/100\n",
      "103/103 [==============================] - 1s 5ms/step - loss: 0.0805 - accuracy: 0.9648\n",
      "Epoch 57/100\n",
      "103/103 [==============================] - 1s 6ms/step - loss: 0.0757 - accuracy: 0.9654\n",
      "Epoch 58/100\n",
      "103/103 [==============================] - 1s 5ms/step - loss: 0.0871 - accuracy: 0.9623\n",
      "Epoch 59/100\n",
      "103/103 [==============================] - 1s 5ms/step - loss: 0.1019 - accuracy: 0.9587\n",
      "Epoch 60/100\n",
      "103/103 [==============================] - 1s 5ms/step - loss: 0.0911 - accuracy: 0.9642\n",
      "Epoch 61/100\n",
      "103/103 [==============================] - 1s 5ms/step - loss: 0.0941 - accuracy: 0.9581\n",
      "Epoch 62/100\n",
      "103/103 [==============================] - 1s 6ms/step - loss: 0.1030 - accuracy: 0.9575\n",
      "Epoch 63/100\n",
      "103/103 [==============================] - 1s 5ms/step - loss: 0.0902 - accuracy: 0.9617\n",
      "Epoch 64/100\n",
      "103/103 [==============================] - 1s 5ms/step - loss: 0.0929 - accuracy: 0.9593\n",
      "Epoch 65/100\n",
      "103/103 [==============================] - 1s 6ms/step - loss: 0.0757 - accuracy: 0.9714\n",
      "Epoch 66/100\n",
      "103/103 [==============================] - 1s 6ms/step - loss: 0.0678 - accuracy: 0.9672\n",
      "Epoch 67/100\n",
      "103/103 [==============================] - 1s 5ms/step - loss: 0.0931 - accuracy: 0.9569\n",
      "Epoch 68/100\n",
      "103/103 [==============================] - 1s 6ms/step - loss: 0.1195 - accuracy: 0.9532\n",
      "Epoch 69/100\n",
      "103/103 [==============================] - 0s 5ms/step - loss: 0.0833 - accuracy: 0.9654\n",
      "Epoch 70/100\n",
      "103/103 [==============================] - 0s 5ms/step - loss: 0.0731 - accuracy: 0.9702\n",
      "Epoch 71/100\n",
      "103/103 [==============================] - 1s 5ms/step - loss: 0.1026 - accuracy: 0.9575\n",
      "Epoch 72/100\n",
      "103/103 [==============================] - 1s 5ms/step - loss: 0.0670 - accuracy: 0.9702\n",
      "Epoch 73/100\n",
      "103/103 [==============================] - 1s 5ms/step - loss: 0.0660 - accuracy: 0.9721\n",
      "Epoch 74/100\n",
      "103/103 [==============================] - 1s 5ms/step - loss: 0.0945 - accuracy: 0.9599\n",
      "Epoch 75/100\n",
      "103/103 [==============================] - 1s 6ms/step - loss: 0.1036 - accuracy: 0.9575\n",
      "Epoch 76/100\n",
      "103/103 [==============================] - 1s 5ms/step - loss: 0.0779 - accuracy: 0.9599\n",
      "Epoch 77/100\n",
      "103/103 [==============================] - 1s 5ms/step - loss: 0.0799 - accuracy: 0.9654\n",
      "Epoch 78/100\n",
      "103/103 [==============================] - 1s 5ms/step - loss: 0.0718 - accuracy: 0.9714\n",
      "Epoch 79/100\n",
      "103/103 [==============================] - 1s 5ms/step - loss: 0.0958 - accuracy: 0.9605: 0s - loss: 0.0546 \n",
      "Epoch 80/100\n",
      "103/103 [==============================] - 1s 5ms/step - loss: 0.0683 - accuracy: 0.9733\n",
      "Epoch 81/100\n"
     ]
    },
    {
     "name": "stdout",
     "output_type": "stream",
     "text": [
      "103/103 [==============================] - 1s 5ms/step - loss: 0.0865 - accuracy: 0.9623\n",
      "Epoch 82/100\n",
      "103/103 [==============================] - 1s 5ms/step - loss: 0.0605 - accuracy: 0.9733\n",
      "Epoch 83/100\n",
      "103/103 [==============================] - 1s 5ms/step - loss: 0.0553 - accuracy: 0.9745\n",
      "Epoch 84/100\n",
      "103/103 [==============================] - 1s 5ms/step - loss: 0.0816 - accuracy: 0.9702\n",
      "Epoch 85/100\n",
      "103/103 [==============================] - 1s 5ms/step - loss: 0.0601 - accuracy: 0.9721\n",
      "Epoch 86/100\n",
      "103/103 [==============================] - 1s 5ms/step - loss: 0.0778 - accuracy: 0.9733\n",
      "Epoch 87/100\n",
      "103/103 [==============================] - 1s 5ms/step - loss: 0.0735 - accuracy: 0.9696\n",
      "Epoch 88/100\n",
      "103/103 [==============================] - 1s 5ms/step - loss: 0.0811 - accuracy: 0.9654\n",
      "Epoch 89/100\n",
      "103/103 [==============================] - 1s 6ms/step - loss: 0.0487 - accuracy: 0.9763\n",
      "Epoch 90/100\n",
      "103/103 [==============================] - 1s 5ms/step - loss: 0.0606 - accuracy: 0.9733\n",
      "Epoch 91/100\n",
      "103/103 [==============================] - 1s 6ms/step - loss: 0.0974 - accuracy: 0.9557\n",
      "Epoch 92/100\n",
      "103/103 [==============================] - 1s 5ms/step - loss: 0.0690 - accuracy: 0.9733\n",
      "Epoch 93/100\n",
      "103/103 [==============================] - 1s 6ms/step - loss: 0.0474 - accuracy: 0.9745\n",
      "Epoch 94/100\n",
      "103/103 [==============================] - 1s 5ms/step - loss: 0.0475 - accuracy: 0.9818\n",
      "Epoch 95/100\n",
      "103/103 [==============================] - 1s 5ms/step - loss: 0.0447 - accuracy: 0.9793\n",
      "Epoch 96/100\n",
      "103/103 [==============================] - 1s 5ms/step - loss: 0.0887 - accuracy: 0.9648\n",
      "Epoch 97/100\n",
      "103/103 [==============================] - 1s 6ms/step - loss: 0.0848 - accuracy: 0.9733\n",
      "Epoch 98/100\n",
      "103/103 [==============================] - 1s 5ms/step - loss: 0.0672 - accuracy: 0.9702\n",
      "Epoch 99/100\n",
      "103/103 [==============================] - 1s 5ms/step - loss: 0.0656 - accuracy: 0.9708\n",
      "Epoch 100/100\n",
      "103/103 [==============================] - 1s 6ms/step - loss: 0.0552 - accuracy: 0.9751\n"
     ]
    }
   ],
   "source": [
    "batch_size = 16\n",
    "\n",
    "\n",
    "\n",
    "\n",
    "history = model.fit(X_train, y_train,\n",
    "                    epochs=100,\n",
    "                    batch_size=batch_size)"
   ]
  },
  {
   "cell_type": "code",
   "execution_count": 64,
   "metadata": {},
   "outputs": [
    {
     "name": "stdout",
     "output_type": "stream",
     "text": [
      "13/13 [==============================] - 0s 5ms/step - loss: 3.5675 - accuracy: 0.5558\n"
     ]
    },
    {
     "data": {
      "text/plain": [
       "[3.5674514770507812, 0.5558252334594727]"
      ]
     },
     "execution_count": 64,
     "metadata": {},
     "output_type": "execute_result"
    }
   ],
   "source": [
    "model.evaluate(X_test,y_test) "
   ]
  },
  {
   "cell_type": "code",
   "execution_count": 65,
   "metadata": {},
   "outputs": [
    {
     "data": {
      "image/png": "[encoded data removed]",
      "text/plain": [
       "<Figure size 576x432 with 1 Axes>"
      ]
     },
     "metadata": {
      "needs_background": "light"
     },
     "output_type": "display_data"
    },
    {
     "data": {
      "image/png": "[encoded data removed]",
      "text/plain": [
       "<Figure size 576x432 with 1 Axes>"
      ]
     },
     "metadata": {
      "needs_background": "light"
     },
     "output_type": "display_data"
    }
   ],
   "source": [
    "plt.figure(figsize=(8,6))\n",
    "plt.title('Model performance by epoch')\n",
    "plt.plot(history.history['accuracy'],'go-')\n",
    "plt.legend(['train_accuracy', 'val_accuracy'])\n",
    "plt.xlabel('Accuracy')\n",
    "plt.ylabel('Epoch')\n",
    "plt.show()\n",
    "plt.figure(figsize=(8,6))\n",
    "plt.title('Loss for Multi-Class Model')\n",
    "plt.plot(history.history['loss'],'go-')\n",
    "plt.legend(['train_loss', 'val_loss'])\n",
    "plt.xlabel('Loss')\n",
    "plt.ylabel('Epoch')\n",
    "plt.show()"
   ]
  },
  {
   "cell_type": "code",
   "execution_count": 66,
   "metadata": {},
   "outputs": [],
   "source": [
    "model.save('cough.h5')"
   ]
  },
  {
   "cell_type": "code",
   "execution_count": null,
   "metadata": {},
   "outputs": [],
   "source": []
  }
 ],
 "metadata": {
  "kernelspec": {
   "display_name": "Python (Capstone-NLP)",
   "language": "python",
   "name": "capstone-nlp"
  },
  "language_info": {
   "codemirror_mode": {
    "name": "ipython",
    "version": 3
   },
   "file_extension": ".py",
   "mimetype": "text/x-python",
   "name": "python",
   "nbconvert_exporter": "python",
   "pygments_lexer": "ipython3",
   "version": "3.7.6"
  },
  "toc": {
   "base_numbering": 1,
   "nav_menu": {},
   "number_sections": false,
   "sideBar": true,
   "skip_h1_title": false,
   "title_cell": "Table of Contents",
   "title_sidebar": "Contents",
   "toc_cell": false,
   "toc_position": {
    "height": "calc(100% - 180px)",
    "left": "10px",
    "top": "150px",
    "width": "406.237px"
   },
   "toc_section_display": true,
   "toc_window_display": true
  }
 },
 "nbformat": 4,
 "nbformat_minor": 4
}
